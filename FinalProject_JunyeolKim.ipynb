{
 "cells": [
  {
   "cell_type": "markdown",
   "metadata": {},
   "source": [
    "# BioInformatcis Project 5"
   ]
  },
  {
   "cell_type": "markdown",
   "metadata": {},
   "source": [
    "## Import python packages"
   ]
  },
  {
   "cell_type": "code",
   "execution_count": 7,
   "metadata": {},
   "outputs": [],
   "source": [
    "# %matplotlib inline\n",
    "import matplotlib.pyplot as plt\n",
    "import tensorflow as tf\n",
    "import numpy as np\n",
    "from time import time\n",
    "import scipy.sparse as sp\n",
    "\n",
    "from utils import *\n",
    "from model import *"
   ]
  },
  {
   "cell_type": "markdown",
   "metadata": {},
   "source": [
    "## Preprocess data"
   ]
  },
  {
   "cell_type": "code",
   "execution_count": 2,
   "metadata": {},
   "outputs": [
    {
     "name": "stdout",
     "output_type": "stream",
     "text": [
      "Data load Success!!\n",
      "Data split Success!!\n",
      "remain # of edges :  10609\n",
      "remain # of edges :  256\n",
      "remain # of edges :  4\n",
      "val_edge_false generated!!\n",
      "remain # of edges :  10609\n",
      "remain # of edges :  264\n",
      "remain # of edges :  4\n",
      "test_edge_false generated!!\n"
     ]
    }
   ],
   "source": [
    "adj = load_data()\n",
    "num_nodes = adj.shape[0]\n",
    "num_edges = adj.sum()\n",
    "\n",
    "# Featureless\n",
    "features = sparse2tensor(sp.identity(num_nodes))\n",
    "num_features = num_nodes\n",
    "features_nonzero = num_nodes\n",
    "\n",
    "print(\"Data load Success!!\")\n",
    "\n",
    "adj_train, train_edges, val_edges, val_edges_false, test_edges, test_edges_false, orig_matrix = split_data(adj)\n",
    "adj_train_norm = normalize_graph(adj_train)"
   ]
  },
  {
   "cell_type": "markdown",
   "metadata": {},
   "source": [
    "## Create & Fit model"
   ]
  },
  {
   "cell_type": "code",
   "execution_count": 3,
   "metadata": {},
   "outputs": [],
   "source": [
    "# Create model\n",
    "model = GCN(num_features, features_nonzero, num_h1=32, num_h2=16, dropout=0.1)"
   ]
  },
  {
   "cell_type": "code",
   "execution_count": 4,
   "metadata": {},
   "outputs": [],
   "source": [
    "# Fit model\n",
    "adj_label = adj_train + sp.eye(adj_train.shape[0])\n",
    "adj_label = sparse2tensor(adj_label)"
   ]
  },
  {
   "cell_type": "code",
   "execution_count": 10,
   "metadata": {},
   "outputs": [
    {
     "name": "stdout",
     "output_type": "stream",
     "text": [
      "Epoch: 0001 train_loss= 0.61319 val_roc= 1.00000 val_ap= 1.00000 time= 1.00000\n",
      "Epoch: 0002 train_loss= 0.61295 val_roc= 1.00000 val_ap= 1.00000 time= 1.00000\n",
      "Epoch: 0003 train_loss= 0.61260 val_roc= 1.00000 val_ap= 1.00000 time= 1.00000\n",
      "Epoch: 0004 train_loss= 0.61119 val_roc= 1.00000 val_ap= 1.00000 time= 1.00000\n",
      "Epoch: 0005 train_loss= 0.61089 val_roc= 1.00000 val_ap= 1.00000 time= 1.00000\n",
      "Epoch: 0006 train_loss= 0.61110 val_roc= 1.00000 val_ap= 1.00000 time= 1.00000\n",
      "Epoch: 0007 train_loss= 0.61023 val_roc= 1.00000 val_ap= 1.00000 time= 1.00000\n",
      "Epoch: 0008 train_loss= 0.60814 val_roc= 1.00000 val_ap= 1.00000 time= 1.00000\n",
      "Epoch: 0009 train_loss= 0.60822 val_roc= 1.00000 val_ap= 1.00000 time= 1.00000\n",
      "Epoch: 0010 train_loss= 0.60799 val_roc= 1.00000 val_ap= 1.00000 time= 1.00000\n",
      "Epoch: 0011 train_loss= 0.60876 val_roc= 1.00000 val_ap= 1.00000 time= 1.00000\n",
      "Epoch: 0012 train_loss= 0.60602 val_roc= 1.00000 val_ap= 1.00000 time= 1.00000\n",
      "Epoch: 0013 train_loss= 0.60582 val_roc= 1.00000 val_ap= 1.00000 time= 1.00000\n",
      "Epoch: 0014 train_loss= 0.60428 val_roc= 1.00000 val_ap= 1.00000 time= 1.00000\n",
      "Epoch: 0015 train_loss= 0.60333 val_roc= 1.00000 val_ap= 1.00000 time= 1.00000\n",
      "Epoch: 0016 train_loss= 0.60275 val_roc= 1.00000 val_ap= 1.00000 time= 1.00000\n",
      "Epoch: 0017 train_loss= 0.60300 val_roc= 1.00000 val_ap= 1.00000 time= 1.00000\n",
      "Epoch: 0018 train_loss= 0.60018 val_roc= 1.00000 val_ap= 1.00000 time= 1.00000\n",
      "Epoch: 0019 train_loss= 0.59830 val_roc= 1.00000 val_ap= 1.00000 time= 1.00000\n",
      "Epoch: 0020 train_loss= 0.59752 val_roc= 1.00000 val_ap= 1.00000 time= 1.00000\n"
     ]
    }
   ],
   "source": [
    "optimizer = tf.keras.optimizers.Adam(learning_rate=1e-2)\n",
    "pos_weight = (num_nodes**2 - num_edges) / num_edges\n",
    "norm = num_nodes ** 2 / ((num_nodes**2 - num_edges) * 2)    \n",
    "    \n",
    "epochs=20\n",
    "for epoch in range(epochs):\n",
    "    tic = time()\n",
    "    #print('Start of epoch %d' % (epoch,))\n",
    "    inputs = [features, adj_train_norm]\n",
    "    \n",
    "    with tf.GradientTape() as tape:\n",
    "        recon = model(inputs)        \n",
    "        loss =  norm * tf.reduce_mean(\n",
    "                        tf.nn.weighted_cross_entropy_with_logits(labels=tf.sparse.to_dense(adj_label),\n",
    "                                                                logits=recon,\n",
    "                                                                pos_weight=pos_weight))\n",
    "    grads = tape.gradient(loss, model.trainable_weights)\n",
    "    optimizer.apply_gradients(zip(grads, model.trainable_weights))\n",
    "    \n",
    "    #working on get_roc_score\n",
    "    #roc_curr, ap_curr = get_roc_score(val_edges, val_edges_false)\n",
    "    roc_curr = 1.\n",
    "    ap_curr = 1.\n",
    "    \n",
    "    toc = int(time() - tic)\n",
    "    print(\"Epoch:\", '%04d' % (epoch + 1), \n",
    "          \"train_loss=\", \"{:.5f}\".format(loss),\n",
    "          \"val_roc=\", \"{:.5f}\".format(roc_curr),\n",
    "          \"val_ap=\", \"{:.5f}\".format(ap_curr),\n",
    "          \"time=\", \"{:.5f}\".format(toc))"
   ]
  },
  {
   "cell_type": "code",
   "execution_count": null,
   "metadata": {},
   "outputs": [],
   "source": []
  },
  {
   "cell_type": "code",
   "execution_count": null,
   "metadata": {},
   "outputs": [],
   "source": []
  }
 ],
 "metadata": {
  "kernelspec": {
   "display_name": "Python 3",
   "language": "python",
   "name": "python3"
  },
  "language_info": {
   "codemirror_mode": {
    "name": "ipython",
    "version": 3
   },
   "file_extension": ".py",
   "mimetype": "text/x-python",
   "name": "python",
   "nbconvert_exporter": "python",
   "pygments_lexer": "ipython3",
   "version": "3.7.4"
  }
 },
 "nbformat": 4,
 "nbformat_minor": 2
}

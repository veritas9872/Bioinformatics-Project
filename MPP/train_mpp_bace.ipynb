{
 "cells": [
  {
   "cell_type": "markdown",
   "metadata": {},
   "source": [
    "# Bis438 Final Project Problem 2"
   ]
  },
  {
   "cell_type": "markdown",
   "metadata": {},
   "source": [
    "## Import Python Libraries"
   ]
  },
  {
   "cell_type": "code",
   "execution_count": 1,
   "metadata": {
    "pycharm": {
     "is_executing": false,
     "name": "#%%\n"
    }
   },
   "outputs": [
    {
     "name": "stderr",
     "output_type": "stream",
     "text": [
      "/home/baseline/.conda/envs/test/lib/python3.6/site-packages/sklearn/ensemble/weight_boosting.py:29: DeprecationWarning: numpy.core.umath_tests is an internal NumPy module and should not be imported. It will be removed in a future NumPy release.\n",
      "  from numpy.core.umath_tests import inner1d\n"
     ]
    }
   ],
   "source": [
    "import tensorflow as tf\n",
    "import numpy as np\n",
    "import deepchem as dc\n",
    "\n",
    "from model import GCN, MLP\n",
    "from utils import process_prediction, make_feature, split_data"
   ]
  },
  {
   "cell_type": "markdown",
   "metadata": {
    "pycharm": {
     "is_executing": false,
     "name": "#%%\n"
    }
   },
   "source": [
    "## Build GraphConv Model"
   ]
  },
  {
   "cell_type": "code",
   "execution_count": 2,
   "metadata": {
    "pycharm": {
     "is_executing": false,
     "name": "#%%\n"
    }
   },
   "outputs": [],
   "source": [
    "batch_size = 50\n",
    "gcn_model = GCN(batch_size=batch_size) # build model"
   ]
  },
  {
   "cell_type": "markdown",
   "metadata": {},
   "source": [
    "## Training GraphConv Model and Calculate ROC-AUC"
   ]
  },
  {
   "cell_type": "code",
   "execution_count": 3,
   "metadata": {
    "scrolled": false
   },
   "outputs": [
    {
     "name": "stdout",
     "output_type": "stream",
     "text": [
      "Loading raw samples now.\n",
      "shard_size: 8192\n",
      "About to start loading CSV from ../data/bace.csv\n",
      "Loading shard 1 of size 8192.\n",
      "Featurizing sample 0\n",
      "Featurizing sample 1000\n",
      "TIMING: featurizing shard 0 took 3.200 s\n",
      "TIMING: dataset construction took 3.855 s\n",
      "Loading dataset from disk.\n",
      "TIMING: dataset construction took 0.852 s\n",
      "Loading dataset from disk.\n",
      "TIMING: dataset construction took 0.590 s\n",
      "Loading dataset from disk.\n",
      "TIMING: dataset construction took 0.391 s\n",
      "Loading dataset from disk.\n",
      "TIMING: dataset construction took 0.224 s\n",
      "Loading dataset from disk.\n"
     ]
    },
    {
     "name": "stderr",
     "output_type": "stream",
     "text": [
      "/home/baseline/.conda/envs/test/lib/python3.6/site-packages/tensorflow/python/ops/gradients_impl.py:98: UserWarning: Converting sparse IndexedSlices to a dense Tensor of unknown shape. This may consume a large amount of memory.\n",
      "  \"Converting sparse IndexedSlices to a dense Tensor of unknown shape. \"\n"
     ]
    },
    {
     "name": "stdout",
     "output_type": "stream",
     "text": [
      "computed_metrics: [0.766854264669898]\n",
      "computed_metrics: [0.7067781690140845]\n",
      "computed_metrics: [0.6871767433565186]\n",
      "Evaluating model number  0\n",
      "Train ROC-AUC Score:  0.766854264669898 Valid ROC-AUC Score:  0.7067781690140845 Test ROC-AUC Score:  0.6871767433565186\n",
      "TIMING: dataset construction took 0.797 s\n",
      "Loading dataset from disk.\n",
      "TIMING: dataset construction took 0.230 s\n",
      "Loading dataset from disk.\n",
      "TIMING: dataset construction took 0.228 s\n",
      "Loading dataset from disk.\n",
      "computed_metrics: [0.847878412763909]\n",
      "computed_metrics: [0.8579382183908046]\n",
      "computed_metrics: [0.8315972222222222]\n",
      "Evaluating model number  1\n",
      "Train ROC-AUC Score:  0.847878412763909 Valid ROC-AUC Score:  0.8579382183908046 Test ROC-AUC Score:  0.8315972222222222\n",
      "TIMING: dataset construction took 0.778 s\n",
      "Loading dataset from disk.\n",
      "TIMING: dataset construction took 0.233 s\n",
      "Loading dataset from disk.\n",
      "TIMING: dataset construction took 0.231 s\n",
      "Loading dataset from disk.\n",
      "computed_metrics: [0.8731101928374656]\n",
      "computed_metrics: [0.852819683908046]\n",
      "computed_metrics: [0.8237229437229437]\n",
      "Evaluating model number  2\n",
      "Train ROC-AUC Score:  0.8731101928374656 Valid ROC-AUC Score:  0.852819683908046 Test ROC-AUC Score:  0.8237229437229437\n",
      "TIMING: dataset construction took 0.797 s\n",
      "Loading dataset from disk.\n",
      "TIMING: dataset construction took 0.236 s\n",
      "Loading dataset from disk.\n",
      "TIMING: dataset construction took 0.231 s\n",
      "Loading dataset from disk.\n",
      "computed_metrics: [0.8713141233073265]\n",
      "computed_metrics: [0.8330948121645796]\n",
      "computed_metrics: [0.8910822510822511]\n",
      "Evaluating model number  3\n",
      "Train ROC-AUC Score:  0.8713141233073265 Valid ROC-AUC Score:  0.8330948121645796 Test ROC-AUC Score:  0.8910822510822511\n",
      "TIMING: dataset construction took 0.795 s\n",
      "Loading dataset from disk.\n",
      "TIMING: dataset construction took 0.235 s\n",
      "Loading dataset from disk.\n",
      "TIMING: dataset construction took 0.228 s\n",
      "Loading dataset from disk.\n",
      "computed_metrics: [0.8921060524346218]\n",
      "computed_metrics: [0.8292682926829269]\n",
      "computed_metrics: [0.9054621848739496]\n",
      "Evaluating model number  4\n",
      "Train ROC-AUC Score:  0.8921060524346218 Valid ROC-AUC Score:  0.8292682926829269 Test ROC-AUC Score:  0.9054621848739496\n",
      "TIMING: dataset construction took 0.609 s\n",
      "Loading dataset from disk.\n",
      "TIMING: dataset construction took 0.418 s\n",
      "Loading dataset from disk.\n",
      "TIMING: dataset construction took 0.233 s\n",
      "Loading dataset from disk.\n",
      "computed_metrics: [0.8921527225755166]\n",
      "computed_metrics: [0.9042852125043906]\n",
      "computed_metrics: [0.8563756063756064]\n",
      "Evaluating model number  5\n",
      "Train ROC-AUC Score:  0.8921527225755166 Valid ROC-AUC Score:  0.9042852125043906 Test ROC-AUC Score:  0.8563756063756064\n",
      "TIMING: dataset construction took 0.610 s\n",
      "Loading dataset from disk.\n",
      "TIMING: dataset construction took 0.239 s\n",
      "Loading dataset from disk.\n",
      "TIMING: dataset construction took 0.408 s\n",
      "Loading dataset from disk.\n",
      "computed_metrics: [0.9031957854395611]\n",
      "computed_metrics: [0.8589466089466089]\n",
      "computed_metrics: [0.9073386383731212]\n",
      "Evaluating model number  6\n",
      "Train ROC-AUC Score:  0.9031957854395611 Valid ROC-AUC Score:  0.8589466089466089 Test ROC-AUC Score:  0.9073386383731212\n",
      "TIMING: dataset construction took 0.609 s\n",
      "Loading dataset from disk.\n",
      "TIMING: dataset construction took 0.229 s\n",
      "Loading dataset from disk.\n",
      "TIMING: dataset construction took 0.418 s\n",
      "Loading dataset from disk.\n",
      "computed_metrics: [0.9018670798898072]\n",
      "computed_metrics: [0.9030303030303031]\n",
      "computed_metrics: [0.8959307359307358]\n",
      "Evaluating model number  7\n",
      "Train ROC-AUC Score:  0.9018670798898072 Valid ROC-AUC Score:  0.9030303030303031 Test ROC-AUC Score:  0.8959307359307358\n",
      "TIMING: dataset construction took 0.794 s\n",
      "Loading dataset from disk.\n",
      "TIMING: dataset construction took 0.237 s\n",
      "Loading dataset from disk.\n",
      "TIMING: dataset construction took 0.235 s\n",
      "Loading dataset from disk.\n",
      "computed_metrics: [0.9119063287149299]\n",
      "computed_metrics: [0.8947971781305115]\n",
      "computed_metrics: [0.8790645105199095]\n",
      "Evaluating model number  8\n",
      "Train ROC-AUC Score:  0.9119063287149299 Valid ROC-AUC Score:  0.8947971781305115 Test ROC-AUC Score:  0.8790645105199095\n",
      "TIMING: dataset construction took 0.623 s\n",
      "Loading dataset from disk.\n",
      "TIMING: dataset construction took 0.423 s\n",
      "Loading dataset from disk.\n",
      "TIMING: dataset construction took 0.229 s\n",
      "Loading dataset from disk.\n",
      "computed_metrics: [0.9173245300255349]\n",
      "computed_metrics: [0.8622485632183909]\n",
      "computed_metrics: [0.899601179122594]\n",
      "Evaluating model number  9\n",
      "Train ROC-AUC Score:  0.9173245300255349 Valid ROC-AUC Score:  0.8622485632183909 Test ROC-AUC Score:  0.899601179122594\n"
     ]
    }
   ],
   "source": [
    "metric = dc.metrics.Metric(dc.metrics.roc_auc_score, np.mean, mode=\"classification\") # define metric as roc_auc_score\n",
    "\n",
    "num_models = 10 # the number of iteration\n",
    "rocauc_train = [] # save rocauc value for training dataset\n",
    "rocauc_valid = [] # save rocauc value for validation dataset\n",
    "rocauc_test = [] # save rocauc value for test dataset\n",
    "\n",
    "# Do featurization\n",
    "conv_feature = make_feature('BACE','GraphConv')\n",
    "\n",
    "for i in range(num_models):\n",
    "    # Load ith dataset with GraphConv Featurizer and random split\n",
    "    train_dataset, valid_dataset, test_dataset = split_data(conv_feature)\n",
    "    \n",
    "    # Fitting ith model with training dataset\n",
    "    gcn_model.fit(train_dataset, 3) # fitting with training epoch 3\n",
    "    \n",
    "    # Evaluating model   \n",
    "    # save rocauc for training dataset\n",
    "    pred_train = gcn_model.predict(train_dataset)\n",
    "    pred_train = process_prediction(train_dataset.y, pred_train)\n",
    "    train_scores = metric.compute_metric(train_dataset.y, pred_train, train_dataset.w)\n",
    "    rocauc_train.append(train_scores)\n",
    "\n",
    "    # save rocauc for valid dataset\n",
    "    pred_valid = gcn_model.predict(valid_dataset)\n",
    "    pred_valid = process_prediction(valid_dataset.y, pred_valid)\n",
    "    valid_scores = metric.compute_metric(valid_dataset.y, pred_valid, valid_dataset.w)\n",
    "    rocauc_valid.append(valid_scores)\n",
    "   \n",
    "    # save rocauc for test dataset\n",
    "    pred_test = gcn_model.predict(test_dataset)\n",
    "    pred_test = process_prediction(test_dataset.y, pred_test)\n",
    "    test_scores = metric.compute_metric(test_dataset.y, pred_test, test_dataset.w)\n",
    "    rocauc_test.append(test_scores)   \n",
    "    \n",
    "    # print rocauc result\n",
    "    print(\"Evaluating model number \", i)\n",
    "    print(\"Train ROC-AUC Score: \" , train_scores,  \n",
    "          \"Valid ROC-AUC Score: \" , valid_scores,\n",
    "          \"Test ROC-AUC Score: \" , test_scores)         "
   ]
  },
  {
   "cell_type": "markdown",
   "metadata": {},
   "source": [
    "## Calculate mean value of ROC-AUC and use std1 for error bar in GCN model"
   ]
  },
  {
   "cell_type": "code",
   "execution_count": 4,
   "metadata": {},
   "outputs": [],
   "source": [
    "gcn_values = []\n",
    "gcn_values.append(np.mean(rocauc_train))\n",
    "gcn_values.append(np.mean(rocauc_valid))\n",
    "gcn_values.append(np.mean(rocauc_test))\n",
    "gcn_stds = []\n",
    "gcn_stds.append(np.std(rocauc_train))\n",
    "gcn_stds.append(np.std(rocauc_valid))\n",
    "gcn_stds.append(np.std(rocauc_test))"
   ]
  },
  {
   "cell_type": "markdown",
   "metadata": {},
   "source": [
    "## Build Multi Layer Perceptron using keras"
   ]
  },
  {
   "cell_type": "code",
   "execution_count": 5,
   "metadata": {},
   "outputs": [],
   "source": [
    "from model import MLP\n",
    "batch_size = 50\n",
    "dense_model = MLP(batch_size=batch_size)"
   ]
  },
  {
   "cell_type": "markdown",
   "metadata": {},
   "source": [
    "## Training Multi Layer Percpetron Model and Calculate ROC-AUC"
   ]
  },
  {
   "cell_type": "code",
   "execution_count": 6,
   "metadata": {
    "scrolled": true
   },
   "outputs": [
    {
     "name": "stdout",
     "output_type": "stream",
     "text": [
      "Loading raw samples now.\n",
      "shard_size: 8192\n",
      "About to start loading CSV from ../data/bace.csv\n",
      "Loading shard 1 of size 8192.\n",
      "Featurizing sample 0\n",
      "Featurizing sample 1000\n",
      "TIMING: featurizing shard 0 took 2.760 s\n",
      "TIMING: dataset construction took 2.902 s\n",
      "Loading dataset from disk.\n",
      "TIMING: dataset construction took 0.056 s\n",
      "Loading dataset from disk.\n",
      "TIMING: dataset construction took 0.051 s\n",
      "Loading dataset from disk.\n",
      "TIMING: dataset construction took 0.024 s\n",
      "Loading dataset from disk.\n",
      "TIMING: dataset construction took 0.024 s\n",
      "Loading dataset from disk.\n",
      "computed_metrics: [0.9198265596401085]\n",
      "computed_metrics: [0.8597625797306875]\n",
      "computed_metrics: [0.8244155844155845]\n",
      "Evaluating model number  0\n",
      "Train ROC-AUC Score:  0.9198265596401085 Valid ROC-AUC Score:  0.8597625797306875 Test ROC-AUC Score:  0.8244155844155845\n",
      "TIMING: dataset construction took 0.065 s\n",
      "Loading dataset from disk.\n",
      "TIMING: dataset construction took 0.026 s\n",
      "Loading dataset from disk.\n",
      "TIMING: dataset construction took 0.024 s\n",
      "Loading dataset from disk.\n",
      "computed_metrics: [0.9569279866719627]\n",
      "computed_metrics: [0.9369511766772041]\n",
      "computed_metrics: [0.8807726075504829]\n",
      "Evaluating model number  1\n",
      "Train ROC-AUC Score:  0.9569279866719627 Valid ROC-AUC Score:  0.9369511766772041 Test ROC-AUC Score:  0.8807726075504829\n",
      "TIMING: dataset construction took 0.063 s\n",
      "Loading dataset from disk.\n",
      "TIMING: dataset construction took 0.028 s\n",
      "Loading dataset from disk.\n",
      "TIMING: dataset construction took 0.028 s\n",
      "Loading dataset from disk.\n",
      "computed_metrics: [0.9812805171583798]\n",
      "computed_metrics: [0.9288913773796192]\n",
      "computed_metrics: [0.9348014565632043]\n",
      "Evaluating model number  2\n",
      "Train ROC-AUC Score:  0.9812805171583798 Valid ROC-AUC Score:  0.9288913773796192 Test ROC-AUC Score:  0.9348014565632043\n",
      "TIMING: dataset construction took 0.065 s\n",
      "Loading dataset from disk.\n",
      "TIMING: dataset construction took 0.028 s\n",
      "Loading dataset from disk.\n",
      "TIMING: dataset construction took 0.028 s\n",
      "Loading dataset from disk.\n",
      "computed_metrics: [0.9929138205219052]\n",
      "computed_metrics: [0.96305811481219]\n",
      "computed_metrics: [0.9543010752688172]\n",
      "Evaluating model number  3\n",
      "Train ROC-AUC Score:  0.9929138205219052 Valid ROC-AUC Score:  0.96305811481219 Test ROC-AUC Score:  0.9543010752688172\n",
      "TIMING: dataset construction took 0.065 s\n",
      "Loading dataset from disk.\n",
      "TIMING: dataset construction took 0.028 s\n",
      "Loading dataset from disk.\n",
      "TIMING: dataset construction took 0.028 s\n",
      "Loading dataset from disk.\n",
      "computed_metrics: [0.9967232635909622]\n",
      "computed_metrics: [0.9761904761904763]\n",
      "computed_metrics: [0.9779411764705883]\n",
      "Evaluating model number  4\n",
      "Train ROC-AUC Score:  0.9967232635909622 Valid ROC-AUC Score:  0.9761904761904763 Test ROC-AUC Score:  0.9779411764705883\n",
      "TIMING: dataset construction took 0.065 s\n",
      "Loading dataset from disk.\n",
      "TIMING: dataset construction took 0.028 s\n",
      "Loading dataset from disk.\n",
      "TIMING: dataset construction took 0.028 s\n",
      "Loading dataset from disk.\n",
      "computed_metrics: [0.9980434669106838]\n",
      "computed_metrics: [0.9936034115138592]\n",
      "computed_metrics: [0.9886825817860301]\n",
      "Evaluating model number  5\n",
      "Train ROC-AUC Score:  0.9980434669106838 Valid ROC-AUC Score:  0.9936034115138592 Test ROC-AUC Score:  0.9886825817860301\n",
      "TIMING: dataset construction took 0.071 s\n",
      "Loading dataset from disk.\n",
      "TIMING: dataset construction took 0.036 s\n",
      "Loading dataset from disk.\n",
      "TIMING: dataset construction took 0.035 s\n",
      "Loading dataset from disk.\n",
      "computed_metrics: [0.9986786593145562]\n",
      "computed_metrics: [0.9780701754385965]\n",
      "computed_metrics: [0.9866549604916595]\n",
      "Evaluating model number  6\n",
      "Train ROC-AUC Score:  0.9986786593145562 Valid ROC-AUC Score:  0.9780701754385965 Test ROC-AUC Score:  0.9866549604916595\n",
      "TIMING: dataset construction took 0.064 s\n",
      "Loading dataset from disk.\n",
      "TIMING: dataset construction took 0.028 s\n",
      "Loading dataset from disk.\n",
      "TIMING: dataset construction took 0.028 s\n",
      "Loading dataset from disk.\n",
      "computed_metrics: [0.9990950413223141]\n",
      "computed_metrics: [0.9992892679459844]\n",
      "computed_metrics: [0.9970547470547471]\n",
      "Evaluating model number  7\n",
      "Train ROC-AUC Score:  0.9990950413223141 Valid ROC-AUC Score:  0.9992892679459844 Test ROC-AUC Score:  0.9970547470547471\n",
      "TIMING: dataset construction took 0.064 s\n",
      "Loading dataset from disk.\n",
      "TIMING: dataset construction took 0.027 s\n",
      "Loading dataset from disk.\n",
      "TIMING: dataset construction took 0.028 s\n",
      "Loading dataset from disk.\n",
      "computed_metrics: [0.9996791597013569]\n",
      "computed_metrics: [0.9985632183908046]\n",
      "computed_metrics: [0.9968836565096953]\n",
      "Evaluating model number  8\n",
      "Train ROC-AUC Score:  0.9996791597013569 Valid ROC-AUC Score:  0.9985632183908046 Test ROC-AUC Score:  0.9968836565096953\n",
      "TIMING: dataset construction took 0.064 s\n",
      "Loading dataset from disk.\n",
      "TIMING: dataset construction took 0.027 s\n",
      "Loading dataset from disk.\n",
      "TIMING: dataset construction took 0.027 s\n",
      "Loading dataset from disk.\n",
      "computed_metrics: [0.9988315986431113]\n",
      "computed_metrics: [0.997789240972734]\n",
      "computed_metrics: [0.9998253885105639]\n",
      "Evaluating model number  9\n",
      "Train ROC-AUC Score:  0.9988315986431113 Valid ROC-AUC Score:  0.997789240972734 Test ROC-AUC Score:  0.9998253885105639\n"
     ]
    }
   ],
   "source": [
    "metric = dc.metrics.Metric(dc.metrics.roc_auc_score, np.mean, mode=\"classification\") # define metric as roc_auc_score\n",
    "\n",
    "num_models = 10 # the number of iteration\n",
    "rocauc_train = [] # save rocauc value for training dataset\n",
    "rocauc_valid = [] # save rocauc value for validation dataset\n",
    "rocauc_test = [] # save rocauc value for test dataset\n",
    "\n",
    "# Do featurization\n",
    "ecfp_feature = make_feature('BACE','ECFP')\n",
    "\n",
    "for i in range(num_models):\n",
    "    # Load ith dataset with GraphConv Featurizer and random split\n",
    "    train_dataset, valid_dataset, test_dataset = split_data(ecfp_feature)\n",
    "    \n",
    "    # Fitting ith model with training dataset\n",
    "    dense_model.fit(train_dataset, 3) # fitting with training epoch 3\n",
    "    \n",
    "    # Evaluating model   \n",
    "    # save rocauc for training dataset\n",
    "    pred_train = dense_model.predict(train_dataset)\n",
    "    pred_train = process_prediction(train_dataset.y, pred_train)\n",
    "    train_scores = metric.compute_metric(train_dataset.y, pred_train)\n",
    "    rocauc_train.append(train_scores)\n",
    "\n",
    "    # save rocauc for valid dataset\n",
    "    pred_valid = dense_model.predict(valid_dataset)\n",
    "    pred_valid = process_prediction(valid_dataset.y, pred_valid)\n",
    "    valid_scores = metric.compute_metric(valid_dataset.y, pred_valid)\n",
    "    rocauc_valid.append(valid_scores)\n",
    "   \n",
    "    # save rocauc for test dataset\n",
    "    pred_test = dense_model.predict(test_dataset)\n",
    "    pred_test = process_prediction(test_dataset.y, pred_test)\n",
    "    test_scores = metric.compute_metric(test_dataset.y, pred_test)\n",
    "    rocauc_test.append(test_scores)   \n",
    "    \n",
    "    # print rocauc result\n",
    "    print(\"Evaluating model number \", i)\n",
    "    print(\"Train ROC-AUC Score: \" , train_scores,  \n",
    "          \"Valid ROC-AUC Score: \" , valid_scores,\n",
    "          \"Test ROC-AUC Score: \" , test_scores)   "
   ]
  },
  {
   "cell_type": "markdown",
   "metadata": {},
   "source": [
    "## Calculate mean value of ROC-AUC and use std1 for error bar in MLP model"
   ]
  },
  {
   "cell_type": "code",
   "execution_count": 7,
   "metadata": {},
   "outputs": [],
   "source": [
    "mlp_values = []\n",
    "mlp_values.append(np.mean(rocauc_train))\n",
    "mlp_values.append(np.mean(rocauc_valid))\n",
    "mlp_values.append(np.mean(rocauc_test))\n",
    "mlp_stds = []\n",
    "mlp_stds.append(np.std(rocauc_train))\n",
    "mlp_stds.append(np.std(rocauc_valid))\n",
    "mlp_stds.append(np.std(rocauc_test))"
   ]
  },
  {
   "cell_type": "markdown",
   "metadata": {},
   "source": [
    "## Plot ROC-AUC Score"
   ]
  },
  {
   "cell_type": "code",
   "execution_count": 8,
   "metadata": {},
   "outputs": [
    {
     "ename": "NameError",
     "evalue": "name 'p1' is not defined",
     "output_type": "error",
     "traceback": [
      "\u001b[0;31m---------------------------------------------------------------------------\u001b[0m",
      "\u001b[0;31mNameError\u001b[0m                                 Traceback (most recent call last)",
      "\u001b[0;32m<ipython-input-8-1286ca01d269>\u001b[0m in \u001b[0;36m<module>\u001b[0;34m\u001b[0m\n\u001b[1;32m     19\u001b[0m \u001b[0max\u001b[0m\u001b[0;34m.\u001b[0m\u001b[0mset_xlabel\u001b[0m\u001b[0;34m(\u001b[0m\u001b[0;34m'Dataset'\u001b[0m\u001b[0;34m)\u001b[0m\u001b[0;34m\u001b[0m\u001b[0;34m\u001b[0m\u001b[0m\n\u001b[1;32m     20\u001b[0m \u001b[0max\u001b[0m\u001b[0;34m.\u001b[0m\u001b[0mset_ylabel\u001b[0m\u001b[0;34m(\u001b[0m\u001b[0;34m'ROC-AUC Score'\u001b[0m\u001b[0;34m)\u001b[0m\u001b[0;34m\u001b[0m\u001b[0;34m\u001b[0m\u001b[0m\n\u001b[0;32m---> 21\u001b[0;31m \u001b[0max\u001b[0m\u001b[0;34m.\u001b[0m\u001b[0mlegend\u001b[0m\u001b[0;34m(\u001b[0m\u001b[0;34m(\u001b[0m\u001b[0mp1\u001b[0m\u001b[0;34m[\u001b[0m\u001b[0;36m0\u001b[0m\u001b[0;34m]\u001b[0m\u001b[0;34m,\u001b[0m \u001b[0mp2\u001b[0m\u001b[0;34m[\u001b[0m\u001b[0;36m0\u001b[0m\u001b[0;34m]\u001b[0m\u001b[0;34m)\u001b[0m\u001b[0;34m,\u001b[0m \u001b[0;34m(\u001b[0m\u001b[0;34m'GCN'\u001b[0m\u001b[0;34m,\u001b[0m \u001b[0;34m'MLP'\u001b[0m\u001b[0;34m)\u001b[0m\u001b[0;34m,\u001b[0m \u001b[0mfontsize\u001b[0m\u001b[0;34m=\u001b[0m\u001b[0;36m15\u001b[0m\u001b[0;34m)\u001b[0m\u001b[0;34m\u001b[0m\u001b[0;34m\u001b[0m\u001b[0m\n\u001b[0m\u001b[1;32m     22\u001b[0m \u001b[0max\u001b[0m\u001b[0;34m.\u001b[0m\u001b[0mset_xticks\u001b[0m\u001b[0;34m(\u001b[0m\u001b[0mmiddle_x\u001b[0m\u001b[0;34m)\u001b[0m\u001b[0;34m\u001b[0m\u001b[0;34m\u001b[0m\u001b[0m\n\u001b[1;32m     23\u001b[0m \u001b[0max\u001b[0m\u001b[0;34m.\u001b[0m\u001b[0mset_xticklabels\u001b[0m\u001b[0;34m(\u001b[0m\u001b[0mtopics\u001b[0m\u001b[0;34m)\u001b[0m\u001b[0;34m\u001b[0m\u001b[0;34m\u001b[0m\u001b[0m\n",
      "\u001b[0;31mNameError\u001b[0m: name 'p1' is not defined"
     ]
    },
    {
     "data": {
      "image/png": "[encoded data removed]",
      "text/plain": [
       "<Figure size 432x288 with 1 Axes>"
      ]
     },
     "metadata": {
      "needs_background": "light"
     },
     "output_type": "display_data"
    }
   ],
   "source": [
    "from matplotlib import pyplot as plt\n",
    "%matplotlib inline\n",
    "\n",
    "topics = ['train', 'valid', 'test']\n",
    "\n",
    "def create_x(t, w, n, d):\n",
    "    return [t*x + w*n for x in range(d)]\n",
    "\n",
    "gcn_values_x = create_x(2, 0.8, 1, 3)\n",
    "mlp_values_x = create_x(2, 0.8, 2, 3)\n",
    "\n",
    "ax = plt.subplot()\n",
    "p1 = ax.bar(gcn_values_x, gcn_values, yerr=gcn_stds, capsize=1)\n",
    "p2 = ax.bar(mlp_values_x, mlp_values, yerr=mlp_stds, capsize=1)\n",
    "\n",
    "middle_x = [(a+b)/2 for (a,b) in zip(gcn_values_x, mlp_values_x)]\n",
    "\n",
    "ax.set_title('Mean ROC-AUC Score for GCN/MLP Model')\n",
    "ax.set_xlabel('Dataset')\n",
    "ax.set_ylabel('ROC-AUC Score')\n",
    "ax.legend((p1[0], p2[0]), ('GCN', 'MLP'), fontsize=15)\n",
    "ax.set_xticks(middle_x)\n",
    "ax.set_xticklabels(topics)\n",
    "plt.show()"
   ]
  },
  {
   "cell_type": "code",
   "execution_count": null,
   "metadata": {},
   "outputs": [],
   "source": []
  }
 ],
 "metadata": {
  "kernelspec": {
   "display_name": "dckernel",
   "language": "python",
   "name": "test"
  },
  "language_info": {
   "codemirror_mode": {
    "name": "ipython",
    "version": 3
   },
   "file_extension": ".py",
   "mimetype": "text/x-python",
   "name": "python",
   "nbconvert_exporter": "python",
   "pygments_lexer": "ipython3",
   "version": "3.6.7"
  },
  "pycharm": {
   "stem_cell": {
    "cell_type": "raw",
    "metadata": {
     "collapsed": false
    },
    "source": []
   }
  }
 },
 "nbformat": 4,
 "nbformat_minor": 1
}

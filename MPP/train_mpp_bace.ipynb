{
 "cells": [
  {
   "cell_type": "code",
   "execution_count": 1,
   "metadata": {
    "pycharm": {
     "is_executing": false,
     "name": "#%%\n"
    }
   },
   "outputs": [
    {
     "name": "stderr",
     "output_type": "stream",
     "text": [
      "/home/baseline/.conda/envs/test/lib/python3.6/site-packages/sklearn/ensemble/weight_boosting.py:29: DeprecationWarning: numpy.core.umath_tests is an internal NumPy module and should not be imported. It will be removed in a future NumPy release.\n",
      "  from numpy.core.umath_tests import inner1d\n"
     ]
    }
   ],
   "source": [
    "import tensorflow as tf\n",
    "import numpy as np\n",
    "import deepchem as dc\n",
    "\n",
    "from deepchem.models.tensorgraph.layers import Feature\n",
    "from deepchem.models.tensorgraph.layers import Dense, GraphConv, BatchNorm\n",
    "from deepchem.models.tensorgraph.layers import GraphPool, GraphGather\n",
    "from deepchem.models.tensorgraph.layers import Dense, SoftMax, SoftMaxCrossEntropy, WeightedError, Stack\n",
    "from deepchem.models.tensorgraph.layers import Label, Weights\n",
    "from deepchem.metrics import to_one_hot\n",
    "from deepchem.feat.mol_graphs import ConvMol\n",
    "\n",
    "from deepchem.models.tensorgraph.tensor_graph import TensorGraph\n",
    "tg = TensorGraph(use_queue=False)"
   ]
  },
  {
   "cell_type": "code",
   "execution_count": 2,
   "metadata": {
    "pycharm": {
     "is_executing": false,
     "name": "#%%\n"
    }
   },
   "outputs": [],
   "source": [
    "atom_features = Feature(shape=(None, 75))\n",
    "degree_slice = Feature(shape=(None, 2), dtype=tf.int32)\n",
    "membership = Feature(shape=(None,), dtype=tf.int32)\n",
    "\n",
    "deg_adjs = []\n",
    "for i in range(0, 10 + 1):\n",
    "    deg_adj = Feature(shape=(None, i + 1), dtype=tf.int32)\n",
    "    deg_adjs.append(deg_adj)"
   ]
  },
  {
   "cell_type": "code",
   "execution_count": 3,
   "metadata": {
    "pycharm": {
     "is_executing": false,
     "name": "#%%\n"
    }
   },
   "outputs": [],
   "source": [
    "batch_size = 50\n",
    "\n",
    "gc1 = GraphConv(\n",
    "    64,\n",
    "    activation_fn=tf.nn.relu,\n",
    "    in_layers=[atom_features, degree_slice, membership] + deg_adjs)\n",
    "batch_norm1 = BatchNorm(in_layers=[gc1])\n",
    "gp1 = GraphPool(in_layers=[batch_norm1, degree_slice, membership] + deg_adjs)\n",
    "gc2 = GraphConv(\n",
    "    64,\n",
    "    activation_fn=tf.nn.relu,\n",
    "    in_layers=[gp1, degree_slice, membership] + deg_adjs)\n",
    "batch_norm2 = BatchNorm(in_layers=[gc2])\n",
    "gp2 = GraphPool(in_layers=[batch_norm2, degree_slice, membership] + deg_adjs)\n",
    "dense = Dense(out_channels=128, activation_fn=tf.nn.relu, in_layers=[gp2])\n",
    "batch_norm3 = BatchNorm(in_layers=[dense])\n",
    "readout = GraphGather(\n",
    "    batch_size=batch_size,\n",
    "    activation_fn=tf.nn.tanh,\n",
    "    in_layers=[batch_norm3, degree_slice, membership] + deg_adjs)"
   ]
  },
  {
   "cell_type": "code",
   "execution_count": 4,
   "metadata": {},
   "outputs": [],
   "source": [
    "costs = []\n",
    "labels = []\n",
    "tasks = ['classification']\n",
    "for task in range(len(tasks)):\n",
    "    classification = Dense(\n",
    "        out_channels=2, activation_fn=None, in_layers=[readout])\n",
    "\n",
    "    softmax = SoftMax(in_layers=[classification])\n",
    "    tg.add_output(softmax)\n",
    "\n",
    "    label = Label(shape=(None, 2))\n",
    "    labels.append(label)\n",
    "    cost = SoftMaxCrossEntropy(in_layers=[label, classification])\n",
    "    costs.append(cost)\n",
    "all_cost = Stack(in_layers=costs, axis=1)\n",
    "weights = Weights(shape=(None, len(tasks)))\n",
    "loss = WeightedError(in_layers=[all_cost, weights])\n",
    "tg.set_loss(loss)"
   ]
  },
  {
   "cell_type": "code",
   "execution_count": 5,
   "metadata": {},
   "outputs": [],
   "source": [
    "def data_generator(dataset, epochs=1, predict=False, pad_batches=True):\n",
    "    for epoch in range(epochs):\n",
    "        if not predict:\n",
    "            print('Starting epoch %i' % epoch)\n",
    "        for ind, (X_b, y_b, w_b, ids_b) in enumerate(dataset.iterbatches(\n",
    "                                        batch_size, pad_batches=pad_batches, deterministic=True)):\n",
    "            d = {}\n",
    "            for index, label in enumerate(labels):\n",
    "                d[label] = to_one_hot(y_b[:, index])\n",
    "            d[weights] = w_b\n",
    "            multiConvMol = ConvMol.agglomerate_mols(X_b)\n",
    "            d[atom_features] = multiConvMol.get_atom_features()\n",
    "            d[degree_slice] = multiConvMol.deg_slice\n",
    "            d[membership] = multiConvMol.membership\n",
    "            for i in range(1, len(multiConvMol.get_deg_adjacency_lists())):\n",
    "                d[deg_adjs[i - 1]] = multiConvMol.get_deg_adjacency_lists()[i]\n",
    "            yield d"
   ]
  },
  {
   "cell_type": "code",
   "execution_count": 6,
   "metadata": {},
   "outputs": [
    {
     "name": "stdout",
     "output_type": "stream",
     "text": [
      "Loading dataset from disk.\n",
      "Loading dataset from disk.\n",
      "Loading dataset from disk.\n"
     ]
    },
    {
     "name": "stderr",
     "output_type": "stream",
     "text": [
      "/home/baseline/.conda/envs/test/lib/python3.6/site-packages/tensorflow/python/ops/gradients_impl.py:98: UserWarning: Converting sparse IndexedSlices to a dense Tensor of unknown shape. This may consume a large amount of memory.\n",
      "  \"Converting sparse IndexedSlices to a dense Tensor of unknown shape. \"\n"
     ]
    },
    {
     "name": "stdout",
     "output_type": "stream",
     "text": [
      "Starting epoch 0\n",
      "Evaluating model 0\n",
      "computed_metrics: [0.5784649111908134]\n",
      "Training ROC-AUC Score: 0.578465\n",
      "computed_metrics: [0.6164293248945147]\n",
      "Valid ROC-AUC Score: 0.616429\n",
      "computed_metrics: [0.5573060941828254]\n",
      "test ROC-AUC Score: 0.557306\n",
      "Loading dataset from disk.\n",
      "Loading dataset from disk.\n",
      "Loading dataset from disk.\n",
      "Starting epoch 0\n",
      "Evaluating model 1\n",
      "computed_metrics: [0.6469776161642935]\n",
      "Training ROC-AUC Score: 0.646978\n",
      "computed_metrics: [0.676951476793249]\n",
      "Valid ROC-AUC Score: 0.676951\n",
      "computed_metrics: [0.6293282548476454]\n",
      "test ROC-AUC Score: 0.629328\n",
      "Loading dataset from disk.\n",
      "Loading dataset from disk.\n",
      "Loading dataset from disk.\n",
      "Starting epoch 0\n",
      "Evaluating model 2\n",
      "computed_metrics: [0.6698867417120169]\n",
      "Training ROC-AUC Score: 0.669887\n",
      "computed_metrics: [0.6913238396624473]\n",
      "Valid ROC-AUC Score: 0.691324\n",
      "computed_metrics: [0.6237880886426593]\n",
      "test ROC-AUC Score: 0.623788\n",
      "Loading dataset from disk.\n",
      "Loading dataset from disk.\n",
      "Loading dataset from disk.\n",
      "Starting epoch 0\n",
      "Evaluating model 3\n",
      "computed_metrics: [0.7497266560090121]\n",
      "Training ROC-AUC Score: 0.749727\n",
      "computed_metrics: [0.7750527426160339]\n",
      "Valid ROC-AUC Score: 0.775053\n",
      "computed_metrics: [0.7652354570637119]\n",
      "test ROC-AUC Score: 0.765235\n",
      "Loading dataset from disk.\n",
      "Loading dataset from disk.\n",
      "Loading dataset from disk.\n",
      "Starting epoch 0\n",
      "Evaluating model 4\n",
      "computed_metrics: [0.7165084584779433]\n",
      "Training ROC-AUC Score: 0.716508\n",
      "computed_metrics: [0.7493407172995781]\n",
      "Valid ROC-AUC Score: 0.749341\n",
      "computed_metrics: [0.7222991689750693]\n",
      "test ROC-AUC Score: 0.722299\n",
      "Loading dataset from disk.\n",
      "Loading dataset from disk.\n",
      "Loading dataset from disk.\n",
      "Starting epoch 0\n",
      "Evaluating model 5\n",
      "computed_metrics: [0.714336892327317]\n",
      "Training ROC-AUC Score: 0.714337\n",
      "computed_metrics: [0.7467035864978904]\n",
      "Valid ROC-AUC Score: 0.746704\n",
      "computed_metrics: [0.737707756232687]\n",
      "test ROC-AUC Score: 0.737708\n",
      "Loading dataset from disk.\n",
      "Loading dataset from disk.\n",
      "Loading dataset from disk.\n",
      "Starting epoch 0\n",
      "Evaluating model 6\n",
      "computed_metrics: [0.7559203823502614]\n",
      "Training ROC-AUC Score: 0.755920\n",
      "computed_metrics: [0.773778129395218]\n",
      "Valid ROC-AUC Score: 0.773778\n",
      "computed_metrics: [0.7583102493074791]\n",
      "test ROC-AUC Score: 0.758310\n",
      "Loading dataset from disk.\n",
      "Loading dataset from disk.\n",
      "Loading dataset from disk.\n",
      "Starting epoch 0\n",
      "Evaluating model 7\n",
      "computed_metrics: [0.765912623798598]\n",
      "Training ROC-AUC Score: 0.765913\n",
      "computed_metrics: [0.7841508438818565]\n",
      "Valid ROC-AUC Score: 0.784151\n",
      "computed_metrics: [0.7697368421052632]\n",
      "test ROC-AUC Score: 0.769737\n",
      "Loading dataset from disk.\n",
      "Loading dataset from disk.\n",
      "Loading dataset from disk.\n",
      "Starting epoch 0\n",
      "Evaluating model 8\n",
      "computed_metrics: [0.7640661713342225]\n",
      "Training ROC-AUC Score: 0.764066\n",
      "computed_metrics: [0.7646360759493671]\n",
      "Valid ROC-AUC Score: 0.764636\n",
      "computed_metrics: [0.7789127423822715]\n",
      "test ROC-AUC Score: 0.778913\n",
      "Loading dataset from disk.\n",
      "Loading dataset from disk.\n",
      "Loading dataset from disk.\n",
      "Starting epoch 0\n",
      "Evaluating model 9\n",
      "computed_metrics: [0.7898730192914591]\n",
      "Training ROC-AUC Score: 0.789873\n",
      "computed_metrics: [0.787007735583685]\n",
      "Valid ROC-AUC Score: 0.787008\n",
      "computed_metrics: [0.7962257617728532]\n",
      "test ROC-AUC Score: 0.796226\n"
     ]
    }
   ],
   "source": [
    "metric = dc.metrics.Metric(\n",
    "    dc.metrics.roc_auc_score, np.mean, mode=\"classification\")\n",
    "\n",
    "def reshape_y_pred(y_true, y_pred):\n",
    "    \"\"\"\n",
    "    TensorGraph.Predict returns a list of arrays, one for each output\n",
    "    We also have to remove the padding on the last batch\n",
    "    Metrics taks results of shape (samples, n_task, prob_of_class)\n",
    "    \"\"\"\n",
    "    n_samples = len(y_true)\n",
    "    retval = np.stack(y_pred, axis=1)\n",
    "    return retval[:n_samples]\n",
    "\n",
    "num_models = 10\n",
    "rocauc_train = []\n",
    "rocauc_valid = []\n",
    "rocauc_test = []\n",
    "for i in range(num_models):\n",
    "    bace_tasks, bace_datasets, transformers = dc.molnet.load_bace_classification(featurizer='GraphConv',split='random')\n",
    "    train_dataset, valid_dataset, test_dataset = bace_datasets\n",
    "\n",
    "    tg.fit_generator(data_generator(train_dataset, epochs=1))\n",
    "\n",
    "    print(\"Evaluating model\", i)\n",
    "    train_predictions = np.expand_dims(tg.predict_on_generator(data_generator(train_dataset, predict=True)), axis=0)\n",
    "    train_predictions = reshape_y_pred(train_dataset.y, train_predictions)\n",
    "    train_scores = metric.compute_metric(train_dataset.y, train_predictions, train_dataset.w)\n",
    "    rocauc_train.append(train_scores)\n",
    "    print(\"Training ROC-AUC Score: %f\" % train_scores)\n",
    "\n",
    "    valid_predictions = np.expand_dims(tg.predict_on_generator(data_generator(valid_dataset, predict=True)), axis=0)\n",
    "    valid_predictions = reshape_y_pred(valid_dataset.y, valid_predictions)\n",
    "    valid_scores = metric.compute_metric(valid_dataset.y, valid_predictions, valid_dataset.w)\n",
    "    rocauc_valid.append(valid_scores)\n",
    "    print(\"Valid ROC-AUC Score: %f\" % valid_scores)\n",
    "    \n",
    "    test_predictions = np.expand_dims(tg.predict_on_generator(data_generator(test_dataset, predict=True)), axis=0)\n",
    "    test_predictions = reshape_y_pred(test_dataset.y, test_predictions)\n",
    "    test_scores = metric.compute_metric(test_dataset.y, test_predictions, test_dataset.w)\n",
    "    rocauc_test.append(test_scores)\n",
    "    print(\"test ROC-AUC Score: %f\" % test_scores)    "
   ]
  },
  {
   "cell_type": "code",
   "execution_count": 7,
   "metadata": {},
   "outputs": [],
   "source": [
    "values = []\n",
    "values.append(np.mean(rocauc_train))\n",
    "values.append(np.mean(rocauc_valid))\n",
    "values.append(np.mean(rocauc_test))\n",
    "stds = []\n",
    "stds.append(np.std(rocauc_train))\n",
    "stds.append(np.std(rocauc_valid))\n",
    "stds.append(np.std(rocauc_test))"
   ]
  },
  {
   "cell_type": "code",
   "execution_count": 8,
   "metadata": {},
   "outputs": [
    {
     "data": {
      "image/png": "[encoded data removed]",
      "text/plain": [
       "<Figure size 432x288 with 1 Axes>"
      ]
     },
     "metadata": {
      "needs_background": "light"
     },
     "output_type": "display_data"
    }
   ],
   "source": [
    "from matplotlib import pyplot as plt\n",
    "%matplotlib inline\n",
    "topics = ['train', 'valid', 'test']\n",
    "plt.bar(topics, values, yerr=stds, capsize=2)\n",
    "\n",
    "plt.title('GCN Model')\n",
    "plt.xlabel('Dataset')\n",
    "plt.ylabel('ROC-AUC Score')\n",
    "plt.show()"
   ]
  },
  {
   "cell_type": "code",
   "execution_count": null,
   "metadata": {},
   "outputs": [],
   "source": []
  }
 ],
 "metadata": {
  "kernelspec": {
   "display_name": "dckernel",
   "language": "python",
   "name": "test"
  },
  "language_info": {
   "codemirror_mode": {
    "name": "ipython",
    "version": 3
   },
   "file_extension": ".py",
   "mimetype": "text/x-python",
   "name": "python",
   "nbconvert_exporter": "python",
   "pygments_lexer": "ipython3",
   "version": "3.6.7"
  },
  "pycharm": {
   "stem_cell": {
    "cell_type": "raw",
    "metadata": {
     "collapsed": false
    },
    "source": []
   }
  }
 },
 "nbformat": 4,
 "nbformat_minor": 1
}

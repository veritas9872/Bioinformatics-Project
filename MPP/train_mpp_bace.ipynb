{
 "cells": [
  {
   "cell_type": "markdown",
   "metadata": {},
   "source": [
    "# Bis438 Final Project Problem 2"
   ]
  },
  {
   "cell_type": "markdown",
   "metadata": {},
   "source": [
    "## Import Python Libraries"
   ]
  },
  {
   "cell_type": "code",
   "execution_count": 1,
   "metadata": {
    "pycharm": {
     "is_executing": false,
     "name": "#%%\n"
    }
   },
   "outputs": [
    {
     "name": "stderr",
     "output_type": "stream",
     "text": [
      "/home/baseline/.conda/envs/test/lib/python3.6/site-packages/sklearn/ensemble/weight_boosting.py:29: DeprecationWarning: numpy.core.umath_tests is an internal NumPy module and should not be imported. It will be removed in a future NumPy release.\n",
      "  from numpy.core.umath_tests import inner1d\n"
     ]
    }
   ],
   "source": [
    "import tensorflow as tf\n",
    "import numpy as np\n",
    "import deepchem as dc\n",
    "\n",
    "from model import GCN\n",
    "from utils import process_prediction, make_feature, split_data"
   ]
  },
  {
   "cell_type": "markdown",
   "metadata": {
    "pycharm": {
     "is_executing": false,
     "name": "#%%\n"
    }
   },
   "source": [
    "## Build GraphConv Model"
   ]
  },
  {
   "cell_type": "code",
   "execution_count": 2,
   "metadata": {
    "pycharm": {
     "is_executing": false,
     "name": "#%%\n"
    }
   },
   "outputs": [],
   "source": [
    "batch_size = 50\n",
    "model = GCN(batch_size=batch_size) # build model"
   ]
  },
  {
   "cell_type": "markdown",
   "metadata": {},
   "source": [
    "## Training GraphConv Model and Calculate ROC-AUC"
   ]
  },
  {
   "cell_type": "code",
   "execution_count": 3,
   "metadata": {},
   "outputs": [
    {
     "name": "stdout",
     "output_type": "stream",
     "text": [
      "Loading raw samples now.\n",
      "shard_size: 8192\n",
      "About to start loading CSV from ../data/bace.csv\n",
      "Loading shard 1 of size 8192.\n",
      "Featurizing sample 0\n",
      "Featurizing sample 1000\n",
      "TIMING: featurizing shard 0 took 2.895 s\n",
      "TIMING: dataset construction took 3.616 s\n",
      "Loading dataset from disk.\n",
      "TIMING: dataset construction took 0.736 s\n",
      "Loading dataset from disk.\n",
      "TIMING: dataset construction took 0.562 s\n",
      "Loading dataset from disk.\n",
      "TIMING: dataset construction took 0.379 s\n",
      "Loading dataset from disk.\n",
      "TIMING: dataset construction took 0.307 s\n",
      "Loading dataset from disk.\n"
     ]
    },
    {
     "name": "stderr",
     "output_type": "stream",
     "text": [
      "/home/baseline/.conda/envs/test/lib/python3.6/site-packages/tensorflow/python/ops/gradients_impl.py:98: UserWarning: Converting sparse IndexedSlices to a dense Tensor of unknown shape. This may consume a large amount of memory.\n",
      "  \"Converting sparse IndexedSlices to a dense Tensor of unknown shape. \"\n"
     ]
    },
    {
     "name": "stdout",
     "output_type": "stream",
     "text": [
      "computed_metrics: [0.713361385988553]\n",
      "computed_metrics: [0.5916017009213324]\n",
      "computed_metrics: [0.7231462231462231]\n",
      "Evaluating model number  0\n",
      "Train ROC-AUC Score:  0.713361385988553 Valid ROC-AUC Score:  0.5916017009213324 Test ROC-AUC Score:  0.7231462231462231\n",
      "TIMING: dataset construction took 0.601 s\n",
      "Loading dataset from disk.\n",
      "TIMING: dataset construction took 0.239 s\n",
      "Loading dataset from disk.\n",
      "TIMING: dataset construction took 0.401 s\n",
      "Loading dataset from disk.\n",
      "computed_metrics: [0.806087417815599]\n",
      "computed_metrics: [0.7145634499823259]\n",
      "computed_metrics: [0.7057883522727273]\n",
      "Evaluating model number  1\n",
      "Train ROC-AUC Score:  0.806087417815599 Valid ROC-AUC Score:  0.7145634499823259 Test ROC-AUC Score:  0.7057883522727273\n",
      "TIMING: dataset construction took 0.605 s\n",
      "Loading dataset from disk.\n",
      "TIMING: dataset construction took 0.240 s\n",
      "Loading dataset from disk.\n",
      "TIMING: dataset construction took 0.427 s\n",
      "Loading dataset from disk.\n",
      "computed_metrics: [0.8446720011036766]\n",
      "computed_metrics: [0.8317460317460318]\n",
      "computed_metrics: [0.8343144044321329]\n",
      "Evaluating model number  2\n",
      "Train ROC-AUC Score:  0.8446720011036766 Valid ROC-AUC Score:  0.8317460317460318 Test ROC-AUC Score:  0.8343144044321329\n",
      "TIMING: dataset construction took 0.613 s\n",
      "Loading dataset from disk.\n",
      "TIMING: dataset construction took 0.234 s\n",
      "Loading dataset from disk.\n",
      "TIMING: dataset construction took 0.411 s\n",
      "Loading dataset from disk.\n",
      "computed_metrics: [0.8729151955694012]\n",
      "computed_metrics: [0.7978947368421052]\n",
      "computed_metrics: [0.8181185880716397]\n",
      "Evaluating model number  3\n",
      "Train ROC-AUC Score:  0.8729151955694012 Valid ROC-AUC Score:  0.7978947368421052 Test ROC-AUC Score:  0.8181185880716397\n",
      "TIMING: dataset construction took 0.622 s\n",
      "Loading dataset from disk.\n",
      "TIMING: dataset construction took 0.242 s\n",
      "Loading dataset from disk.\n",
      "TIMING: dataset construction took 0.417 s\n",
      "Loading dataset from disk.\n",
      "computed_metrics: [0.8797024962578146]\n",
      "computed_metrics: [0.8157427149964463]\n",
      "computed_metrics: [0.9019163763066202]\n",
      "Evaluating model number  4\n",
      "Train ROC-AUC Score:  0.8797024962578146 Valid ROC-AUC Score:  0.8157427149964463 Test ROC-AUC Score:  0.9019163763066202\n",
      "TIMING: dataset construction took 0.787 s\n",
      "Loading dataset from disk.\n",
      "TIMING: dataset construction took 0.235 s\n",
      "Loading dataset from disk.\n",
      "TIMING: dataset construction took 0.232 s\n",
      "Loading dataset from disk.\n",
      "computed_metrics: [0.8675451840362572]\n",
      "computed_metrics: [0.8211382113821137]\n",
      "computed_metrics: [0.8212649753347427]\n",
      "Evaluating model number  5\n",
      "Train ROC-AUC Score:  0.8675451840362572 Valid ROC-AUC Score:  0.8211382113821137 Test ROC-AUC Score:  0.8212649753347427\n",
      "TIMING: dataset construction took 0.796 s\n",
      "Loading dataset from disk.\n",
      "TIMING: dataset construction took 0.242 s\n",
      "Loading dataset from disk.\n",
      "TIMING: dataset construction took 0.238 s\n",
      "Loading dataset from disk.\n",
      "computed_metrics: [0.8891384934145623]\n",
      "computed_metrics: [0.8497267759562842]\n",
      "computed_metrics: [0.8506346722309164]\n",
      "Evaluating model number  6\n",
      "Train ROC-AUC Score:  0.8891384934145623 Valid ROC-AUC Score:  0.8497267759562842 Test ROC-AUC Score:  0.8506346722309164\n",
      "TIMING: dataset construction took 0.798 s\n",
      "Loading dataset from disk.\n",
      "TIMING: dataset construction took 0.235 s\n",
      "Loading dataset from disk.\n",
      "TIMING: dataset construction took 0.233 s\n",
      "Loading dataset from disk.\n",
      "computed_metrics: [0.896789256198347]\n",
      "computed_metrics: [0.8526408450704226]\n",
      "computed_metrics: [0.9090254008286796]\n",
      "Evaluating model number  7\n",
      "Train ROC-AUC Score:  0.896789256198347 Valid ROC-AUC Score:  0.8526408450704226 Test ROC-AUC Score:  0.9090254008286796\n",
      "TIMING: dataset construction took 0.606 s\n",
      "Loading dataset from disk.\n",
      "TIMING: dataset construction took 0.427 s\n",
      "Loading dataset from disk.\n",
      "TIMING: dataset construction took 0.233 s\n",
      "Loading dataset from disk.\n",
      "computed_metrics: [0.8949737838263189]\n",
      "computed_metrics: [0.9036144578313253]\n",
      "computed_metrics: [0.8953125]\n",
      "Evaluating model number  8\n",
      "Train ROC-AUC Score:  0.8949737838263189 Valid ROC-AUC Score:  0.9036144578313253 Test ROC-AUC Score:  0.8953125\n",
      "TIMING: dataset construction took 0.622 s\n",
      "Loading dataset from disk.\n",
      "TIMING: dataset construction took 0.238 s\n",
      "Loading dataset from disk.\n",
      "TIMING: dataset construction took 0.415 s\n",
      "Loading dataset from disk.\n",
      "computed_metrics: [0.9068994490358127]\n",
      "computed_metrics: [0.9287974683544304]\n",
      "computed_metrics: [0.8826610790990048]\n",
      "Evaluating model number  9\n",
      "Train ROC-AUC Score:  0.9068994490358127 Valid ROC-AUC Score:  0.9287974683544304 Test ROC-AUC Score:  0.8826610790990048\n"
     ]
    }
   ],
   "source": [
    "metric = dc.metrics.Metric(dc.metrics.roc_auc_score, np.mean, mode=\"classification\") # define metric as roc_auc_score\n",
    "\n",
    "num_models = 10 # the number of iteration\n",
    "rocauc_train = [] # save rocauc value for training dataset\n",
    "rocauc_valid = [] # save rocauc value for validation dataset\n",
    "rocauc_test = [] # save rocauc value for test dataset\n",
    "\n",
    "# Do featurization\n",
    "feature = make_feature('BACE','GraphConv')\n",
    "\n",
    "for i in range(num_models):\n",
    "    # Load ith dataset with GraphConv Featurizer and random split\n",
    "    train_dataset, valid_dataset, test_dataset = split_data(feature)\n",
    "    \n",
    "    # Fitting ith model with training dataset\n",
    "    model.fit(train_dataset, 3) # fitting with training epoch 3\n",
    "    \n",
    "    # Evaluating model   \n",
    "    # save rocauc for training dataset\n",
    "    pred_train = model.predict(train_dataset)\n",
    "    pred_train = process_prediction(train_dataset.y, pred_train)\n",
    "    train_scores = metric.compute_metric(train_dataset.y, pred_train, train_dataset.w)\n",
    "    rocauc_train.append(train_scores)\n",
    "\n",
    "    # save rocauc for valid dataset\n",
    "    pred_valid = model.predict(valid_dataset)\n",
    "    pred_valid = process_prediction(valid_dataset.y, pred_valid)\n",
    "    valid_scores = metric.compute_metric(valid_dataset.y, pred_valid, valid_dataset.w)\n",
    "    rocauc_valid.append(valid_scores)\n",
    "   \n",
    "    # save rocauc for test dataset\n",
    "    pred_test = model.predict(test_dataset)\n",
    "    pred_test = process_prediction(test_dataset.y, pred_test)\n",
    "    test_scores = metric.compute_metric(test_dataset.y, pred_test, test_dataset.w)\n",
    "    rocauc_test.append(test_scores)   \n",
    "    \n",
    "    # print rocauc result\n",
    "    print(\"Evaluating model number \", i)\n",
    "    print(\"Train ROC-AUC Score: \" , train_scores,  \n",
    "          \"Valid ROC-AUC Score: \" , valid_scores,\n",
    "          \"Test ROC-AUC Score: \" , test_scores)    "
   ]
  },
  {
   "cell_type": "markdown",
   "metadata": {},
   "source": [
    "## Calculate mean value of ROC-AUC and use std1 for error bar"
   ]
  },
  {
   "cell_type": "code",
   "execution_count": 4,
   "metadata": {},
   "outputs": [],
   "source": [
    "values = []\n",
    "values.append(np.mean(rocauc_train))\n",
    "values.append(np.mean(rocauc_valid))\n",
    "values.append(np.mean(rocauc_test))\n",
    "stds = []\n",
    "stds.append(np.std(rocauc_train))\n",
    "stds.append(np.std(rocauc_valid))\n",
    "stds.append(np.std(rocauc_test))"
   ]
  },
  {
   "cell_type": "markdown",
   "metadata": {},
   "source": [
    "## Plot ROC-AUC Score"
   ]
  },
  {
   "cell_type": "code",
   "execution_count": 5,
   "metadata": {},
   "outputs": [
    {
     "data": {
      "image/png": "[encoded data removed]",
      "text/plain": [
       "<Figure size 432x288 with 1 Axes>"
      ]
     },
     "metadata": {
      "needs_background": "light"
     },
     "output_type": "display_data"
    }
   ],
   "source": [
    "from matplotlib import pyplot as plt\n",
    "%matplotlib inline\n",
    "topics = ['train', 'valid', 'test']\n",
    "plt.bar(topics, values, yerr=stds, capsize=2)\n",
    "\n",
    "plt.title('GCN Model')\n",
    "plt.xlabel('Dataset')\n",
    "plt.ylabel('ROC-AUC Score')\n",
    "plt.show()"
   ]
  }
 ],
 "metadata": {
  "kernelspec": {
   "display_name": "dckernel",
   "language": "python",
   "name": "test"
  },
  "language_info": {
   "codemirror_mode": {
    "name": "ipython",
    "version": 3
   },
   "file_extension": ".py",
   "mimetype": "text/x-python",
   "name": "python",
   "nbconvert_exporter": "python",
   "pygments_lexer": "ipython3",
   "version": "3.6.7"
  },
  "pycharm": {
   "stem_cell": {
    "cell_type": "raw",
    "metadata": {
     "collapsed": false
    },
    "source": []
   }
  }
 },
 "nbformat": 4,
 "nbformat_minor": 1
}

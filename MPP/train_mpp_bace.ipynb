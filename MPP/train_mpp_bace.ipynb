{
 "cells": [
  {
   "cell_type": "markdown",
   "metadata": {},
   "source": [
    "# Bis438 Final Project Problem 2"
   ]
  },
  {
   "cell_type": "markdown",
   "metadata": {},
   "source": [
    "## Import Python Libraries"
   ]
  },
  {
   "cell_type": "code",
   "execution_count": 1,
   "metadata": {
    "pycharm": {
     "is_executing": false,
     "name": "#%%\n"
    }
   },
   "outputs": [
    {
     "name": "stderr",
     "text": [
      "/home/veritas/anaconda3/envs/dc/lib/python3.6/site-packages/sklearn/externals/joblib/__init__.py:15: FutureWarning: sklearn.externals.joblib is deprecated in 0.21 and will be removed in 0.23. Please import this functionality directly from joblib, which can be installed with: pip install joblib. If this warning is raised when loading pickled models, you may need to re-serialize those models with scikit-learn 0.21+.\n",
      "  warnings.warn(msg, category=FutureWarning)\n",
      "RDKit WARNING: [11:22:07] Enabling RDKit 2019.09.2 jupyter extensions\n",
      "/home/veritas/anaconda3/envs/dc/lib/python3.6/site-packages/tensorflow/python/framework/dtypes.py:516: FutureWarning: Passing (type, 1) or '1type' as a synonym of type is deprecated; in a future version of numpy, it will be understood as (type, (1,)) / '(1,)type'.\n",
      "  _np_qint8 = np.dtype([(\"qint8\", np.int8, 1)])\n",
      "/home/veritas/anaconda3/envs/dc/lib/python3.6/site-packages/tensorflow/python/framework/dtypes.py:517: FutureWarning: Passing (type, 1) or '1type' as a synonym of type is deprecated; in a future version of numpy, it will be understood as (type, (1,)) / '(1,)type'.\n",
      "  _np_quint8 = np.dtype([(\"quint8\", np.uint8, 1)])\n",
      "/home/veritas/anaconda3/envs/dc/lib/python3.6/site-packages/tensorflow/python/framework/dtypes.py:518: FutureWarning: Passing (type, 1) or '1type' as a synonym of type is deprecated; in a future version of numpy, it will be understood as (type, (1,)) / '(1,)type'.\n",
      "  _np_qint16 = np.dtype([(\"qint16\", np.int16, 1)])\n",
      "/home/veritas/anaconda3/envs/dc/lib/python3.6/site-packages/tensorflow/python/framework/dtypes.py:519: FutureWarning: Passing (type, 1) or '1type' as a synonym of type is deprecated; in a future version of numpy, it will be understood as (type, (1,)) / '(1,)type'.\n",
      "  _np_quint16 = np.dtype([(\"quint16\", np.uint16, 1)])\n",
      "/home/veritas/anaconda3/envs/dc/lib/python3.6/site-packages/tensorflow/python/framework/dtypes.py:520: FutureWarning: Passing (type, 1) or '1type' as a synonym of type is deprecated; in a future version of numpy, it will be understood as (type, (1,)) / '(1,)type'.\n",
      "  _np_qint32 = np.dtype([(\"qint32\", np.int32, 1)])\n",
      "/home/veritas/anaconda3/envs/dc/lib/python3.6/site-packages/tensorflow/python/framework/dtypes.py:525: FutureWarning: Passing (type, 1) or '1type' as a synonym of type is deprecated; in a future version of numpy, it will be understood as (type, (1,)) / '(1,)type'.\n",
      "  np_resource = np.dtype([(\"resource\", np.ubyte, 1)])\n",
      "/home/veritas/anaconda3/envs/dc/lib/python3.6/site-packages/tensorboard/compat/tensorflow_stub/dtypes.py:541: FutureWarning: Passing (type, 1) or '1type' as a synonym of type is deprecated; in a future version of numpy, it will be understood as (type, (1,)) / '(1,)type'.\n",
      "  _np_qint8 = np.dtype([(\"qint8\", np.int8, 1)])\n",
      "/home/veritas/anaconda3/envs/dc/lib/python3.6/site-packages/tensorboard/compat/tensorflow_stub/dtypes.py:542: FutureWarning: Passing (type, 1) or '1type' as a synonym of type is deprecated; in a future version of numpy, it will be understood as (type, (1,)) / '(1,)type'.\n",
      "  _np_quint8 = np.dtype([(\"quint8\", np.uint8, 1)])\n",
      "/home/veritas/anaconda3/envs/dc/lib/python3.6/site-packages/tensorboard/compat/tensorflow_stub/dtypes.py:543: FutureWarning: Passing (type, 1) or '1type' as a synonym of type is deprecated; in a future version of numpy, it will be understood as (type, (1,)) / '(1,)type'.\n",
      "  _np_qint16 = np.dtype([(\"qint16\", np.int16, 1)])\n",
      "/home/veritas/anaconda3/envs/dc/lib/python3.6/site-packages/tensorboard/compat/tensorflow_stub/dtypes.py:544: FutureWarning: Passing (type, 1) or '1type' as a synonym of type is deprecated; in a future version of numpy, it will be understood as (type, (1,)) / '(1,)type'.\n",
      "  _np_quint16 = np.dtype([(\"quint16\", np.uint16, 1)])\n",
      "/home/veritas/anaconda3/envs/dc/lib/python3.6/site-packages/tensorboard/compat/tensorflow_stub/dtypes.py:545: FutureWarning: Passing (type, 1) or '1type' as a synonym of type is deprecated; in a future version of numpy, it will be understood as (type, (1,)) / '(1,)type'.\n",
      "  _np_qint32 = np.dtype([(\"qint32\", np.int32, 1)])\n",
      "/home/veritas/anaconda3/envs/dc/lib/python3.6/site-packages/tensorboard/compat/tensorflow_stub/dtypes.py:550: FutureWarning: Passing (type, 1) or '1type' as a synonym of type is deprecated; in a future version of numpy, it will be understood as (type, (1,)) / '(1,)type'.\n",
      "  np_resource = np.dtype([(\"resource\", np.ubyte, 1)])\n"
     ],
     "output_type": "stream"
    }
   ],
   "source": [
    "import numpy as np\n",
    "import deepchem as dc\n",
    "\n",
    "from MPP.model import GCN, MLP\n",
    "from MPP.utils import process_prediction, make_feature, split_data"
   ]
  },
  {
   "cell_type": "markdown",
   "metadata": {
    "pycharm": {
     "is_executing": false,
     "name": "#%%\n"
    }
   },
   "source": [
    "## Build GraphConv Model"
   ]
  },
  {
   "cell_type": "code",
   "execution_count": 2,
   "metadata": {
    "pycharm": {
     "is_executing": false,
     "name": "#%%\n"
    }
   },
   "outputs": [],
   "source": [
    "batch_size = 50\n",
    "gcn_model = GCN(batch_size=batch_size) # build model"
   ]
  },
  {
   "cell_type": "markdown",
   "metadata": {},
   "source": [
    "## Training GraphConv Model and Calculate ROC-AUC"
   ]
  },
  {
   "cell_type": "code",
   "execution_count": 3,
   "metadata": {
    "scrolled": false,
    "pycharm": {
     "is_executing": false
    }
   },
   "outputs": [
    {
     "name": "stdout",
     "text": [
      "Loading raw samples now.\n",
      "shard_size: 8192\n",
      "About to start loading CSV from ../data/bace.csv\n",
      "Loading shard 1 of size 8192.\n",
      "Featurizing sample 0\n",
      "Featurizing sample 1000\n",
      "TIMING: featurizing shard 0 took 2.431 s\n",
      "TIMING: dataset construction took 3.019 s\n",
      "Loading dataset from disk.\n",
      "TIMING: dataset construction took 0.628 s\n",
      "Loading dataset from disk.\n",
      "TIMING: dataset construction took 0.572 s\n",
      "Loading dataset from disk.\n",
      "TIMING: dataset construction took 0.185 s\n",
      "Loading dataset from disk.\n",
      "TIMING: dataset construction took 0.270 s\n",
      "Loading dataset from disk.\n",
      "WARNING:tensorflow:From /home/veritas/anaconda3/envs/dc/lib/python3.6/site-packages/deepchem/models/tensorgraph/tensor_graph.py:714: The name tf.placeholder is deprecated. Please use tf.compat.v1.placeholder instead.\n",
      "\n",
      "WARNING:tensorflow:From /home/veritas/anaconda3/envs/dc/lib/python3.6/site-packages/tensorflow/python/ops/init_ops.py:1251: calling VarianceScaling.__init__ (from tensorflow.python.ops.init_ops) with dtype is deprecated and will be removed in a future version.\n",
      "Instructions for updating:\n",
      "Call initializer instance with the dtype argument instead of passing it to the constructor\n",
      "WARNING:tensorflow:Entity <bound method GraphConv.call of <deepchem.models.layers.GraphConv object at 0x7f6adf0c0b70>> could not be transformed and will be executed as-is. Please report this to the AutgoGraph team. When filing the bug, set the verbosity to 10 (on Linux, `export AUTOGRAPH_VERBOSITY=10`) and attach the full output. Cause: converting <bound method GraphConv.call of <deepchem.models.layers.GraphConv object at 0x7f6adf0c0b70>>: AttributeError: module 'gast' has no attribute 'Num'\n",
      "WARNING: Entity <bound method GraphConv.call of <deepchem.models.layers.GraphConv object at 0x7f6adf0c0b70>> could not be transformed and will be executed as-is. Please report this to the AutgoGraph team. When filing the bug, set the verbosity to 10 (on Linux, `export AUTOGRAPH_VERBOSITY=10`) and attach the full output. Cause: converting <bound method GraphConv.call of <deepchem.models.layers.GraphConv object at 0x7f6adf0c0b70>>: AttributeError: module 'gast' has no attribute 'Num'\n",
      "WARNING:tensorflow:Entity <bound method GraphPool.call of <deepchem.models.layers.GraphPool object at 0x7f6ad893cb38>> could not be transformed and will be executed as-is. Please report this to the AutgoGraph team. When filing the bug, set the verbosity to 10 (on Linux, `export AUTOGRAPH_VERBOSITY=10`) and attach the full output. Cause: converting <bound method GraphPool.call of <deepchem.models.layers.GraphPool object at 0x7f6ad893cb38>>: AttributeError: module 'gast' has no attribute 'Num'\n",
      "WARNING: Entity <bound method GraphPool.call of <deepchem.models.layers.GraphPool object at 0x7f6ad893cb38>> could not be transformed and will be executed as-is. Please report this to the AutgoGraph team. When filing the bug, set the verbosity to 10 (on Linux, `export AUTOGRAPH_VERBOSITY=10`) and attach the full output. Cause: converting <bound method GraphPool.call of <deepchem.models.layers.GraphPool object at 0x7f6ad893cb38>>: AttributeError: module 'gast' has no attribute 'Num'\n",
      "WARNING:tensorflow:Entity <bound method GraphConv.call of <deepchem.models.layers.GraphConv object at 0x7f6ad947b240>> could not be transformed and will be executed as-is. Please report this to the AutgoGraph team. When filing the bug, set the verbosity to 10 (on Linux, `export AUTOGRAPH_VERBOSITY=10`) and attach the full output. Cause: converting <bound method GraphConv.call of <deepchem.models.layers.GraphConv object at 0x7f6ad947b240>>: AttributeError: module 'gast' has no attribute 'Num'\n",
      "WARNING: Entity <bound method GraphConv.call of <deepchem.models.layers.GraphConv object at 0x7f6ad947b240>> could not be transformed and will be executed as-is. Please report this to the AutgoGraph team. When filing the bug, set the verbosity to 10 (on Linux, `export AUTOGRAPH_VERBOSITY=10`) and attach the full output. Cause: converting <bound method GraphConv.call of <deepchem.models.layers.GraphConv object at 0x7f6ad947b240>>: AttributeError: module 'gast' has no attribute 'Num'\n",
      "WARNING:tensorflow:Entity <bound method GraphPool.call of <deepchem.models.layers.GraphPool object at 0x7f6ad864c208>> could not be transformed and will be executed as-is. Please report this to the AutgoGraph team. When filing the bug, set the verbosity to 10 (on Linux, `export AUTOGRAPH_VERBOSITY=10`) and attach the full output. Cause: converting <bound method GraphPool.call of <deepchem.models.layers.GraphPool object at 0x7f6ad864c208>>: AttributeError: module 'gast' has no attribute 'Num'\n",
      "WARNING: Entity <bound method GraphPool.call of <deepchem.models.layers.GraphPool object at 0x7f6ad864c208>> could not be transformed and will be executed as-is. Please report this to the AutgoGraph team. When filing the bug, set the verbosity to 10 (on Linux, `export AUTOGRAPH_VERBOSITY=10`) and attach the full output. Cause: converting <bound method GraphPool.call of <deepchem.models.layers.GraphPool object at 0x7f6ad864c208>>: AttributeError: module 'gast' has no attribute 'Num'\n",
      "WARNING:tensorflow:Entity <bound method GraphGather.call of <deepchem.models.layers.GraphGather object at 0x7f6ad8bfd358>> could not be transformed and will be executed as-is. Please report this to the AutgoGraph team. When filing the bug, set the verbosity to 10 (on Linux, `export AUTOGRAPH_VERBOSITY=10`) and attach the full output. Cause: converting <bound method GraphGather.call of <deepchem.models.layers.GraphGather object at 0x7f6ad8bfd358>>: AttributeError: module 'gast' has no attribute 'Num'\n",
      "WARNING: Entity <bound method GraphGather.call of <deepchem.models.layers.GraphGather object at 0x7f6ad8bfd358>> could not be transformed and will be executed as-is. Please report this to the AutgoGraph team. When filing the bug, set the verbosity to 10 (on Linux, `export AUTOGRAPH_VERBOSITY=10`) and attach the full output. Cause: converting <bound method GraphGather.call of <deepchem.models.layers.GraphGather object at 0x7f6ad8bfd358>>: AttributeError: module 'gast' has no attribute 'Num'\n",
      "WARNING:tensorflow:From /home/veritas/anaconda3/envs/dc/lib/python3.6/site-packages/deepchem/models/layers.py:194: The name tf.unsorted_segment_sum is deprecated. Please use tf.math.unsorted_segment_sum instead.\n",
      "\n",
      "WARNING:tensorflow:From /home/veritas/anaconda3/envs/dc/lib/python3.6/site-packages/deepchem/models/layers.py:196: The name tf.unsorted_segment_max is deprecated. Please use tf.math.unsorted_segment_max instead.\n",
      "\n",
      "WARNING:tensorflow:From /home/veritas/anaconda3/envs/dc/lib/python3.6/site-packages/deepchem/models/tensorgraph/tensor_graph.py:727: The name tf.Session is deprecated. Please use tf.compat.v1.Session instead.\n",
      "\n",
      "WARNING:tensorflow:From /home/veritas/anaconda3/envs/dc/lib/python3.6/site-packages/deepchem/models/optimizers.py:76: The name tf.train.AdamOptimizer is deprecated. Please use tf.compat.v1.train.AdamOptimizer instead.\n",
      "\n",
      "WARNING:tensorflow:From /home/veritas/anaconda3/envs/dc/lib/python3.6/site-packages/tensorflow/python/ops/math_grad.py:318: add_dispatch_support.<locals>.wrapper (from tensorflow.python.ops.array_ops) is deprecated and will be removed in a future version.\n",
      "Instructions for updating:\n",
      "Use tf.where in 2.0, which has the same broadcast rule as np.where\n",
      "WARNING:tensorflow:From /home/veritas/anaconda3/envs/dc/lib/python3.6/site-packages/deepchem/models/tensorgraph/tensor_graph.py:1012: The name tf.get_collection is deprecated. Please use tf.compat.v1.get_collection instead.\n",
      "\n",
      "WARNING:tensorflow:From /home/veritas/anaconda3/envs/dc/lib/python3.6/site-packages/deepchem/models/tensorgraph/tensor_graph.py:748: The name tf.summary.scalar is deprecated. Please use tf.compat.v1.summary.scalar instead.\n",
      "\n",
      "\n",
      "Evaluating model number 01.\n",
      "Train ROC-AUC Score: 0.513, Valid ROC-AUC Score: 0.498, Test ROC-AUC Score: 0.515.\n",
      "\n",
      "TIMING: dataset construction took 0.490 s\n",
      "Loading dataset from disk.\n",
      "TIMING: dataset construction took 0.195 s\n",
      "Loading dataset from disk.\n",
      "TIMING: dataset construction took 0.323 s\n",
      "Loading dataset from disk.\n",
      "\n",
      "Evaluating model number 02.\n",
      "Train ROC-AUC Score: 0.746, Valid ROC-AUC Score: 0.747, Test ROC-AUC Score: 0.735.\n",
      "\n",
      "TIMING: dataset construction took 0.489 s\n",
      "Loading dataset from disk.\n",
      "TIMING: dataset construction took 0.197 s\n",
      "Loading dataset from disk.\n",
      "TIMING: dataset construction took 0.325 s\n",
      "Loading dataset from disk.\n",
      "\n",
      "Evaluating model number 03.\n",
      "Train ROC-AUC Score: 0.816, Valid ROC-AUC Score: 0.739, Test ROC-AUC Score: 0.761.\n",
      "\n",
      "TIMING: dataset construction took 0.486 s\n",
      "Loading dataset from disk.\n",
      "TIMING: dataset construction took 0.195 s\n",
      "Loading dataset from disk.\n",
      "TIMING: dataset construction took 0.317 s\n",
      "Loading dataset from disk.\n",
      "\n",
      "Evaluating model number 04.\n",
      "Train ROC-AUC Score: 0.671, Valid ROC-AUC Score: 0.740, Test ROC-AUC Score: 0.684.\n",
      "\n",
      "TIMING: dataset construction took 0.492 s\n",
      "Loading dataset from disk.\n",
      "TIMING: dataset construction took 0.196 s\n",
      "Loading dataset from disk.\n",
      "TIMING: dataset construction took 0.320 s\n",
      "Loading dataset from disk.\n",
      "\n",
      "Evaluating model number 05.\n",
      "Train ROC-AUC Score: 0.808, Valid ROC-AUC Score: 0.781, Test ROC-AUC Score: 0.733.\n",
      "\n",
      "TIMING: dataset construction took 0.493 s\n",
      "Loading dataset from disk.\n",
      "TIMING: dataset construction took 0.197 s\n",
      "Loading dataset from disk.\n",
      "TIMING: dataset construction took 0.316 s\n",
      "Loading dataset from disk.\n",
      "\n",
      "Evaluating model number 06.\n",
      "Train ROC-AUC Score: 0.852, Valid ROC-AUC Score: 0.868, Test ROC-AUC Score: 0.764.\n",
      "\n",
      "TIMING: dataset construction took 0.489 s\n",
      "Loading dataset from disk.\n",
      "TIMING: dataset construction took 0.306 s\n",
      "Loading dataset from disk.\n",
      "TIMING: dataset construction took 0.465 s\n",
      "Loading dataset from disk.\n",
      "\n",
      "Evaluating model number 07.\n",
      "Train ROC-AUC Score: 0.857, Valid ROC-AUC Score: 0.868, Test ROC-AUC Score: 0.839.\n",
      "\n",
      "TIMING: dataset construction took 0.760 s\n",
      "Loading dataset from disk.\n",
      "TIMING: dataset construction took 0.307 s\n",
      "Loading dataset from disk.\n",
      "TIMING: dataset construction took 0.208 s\n",
      "Loading dataset from disk.\n",
      "\n",
      "Evaluating model number 08.\n",
      "Train ROC-AUC Score: 0.863, Valid ROC-AUC Score: 0.847, Test ROC-AUC Score: 0.887.\n",
      "\n",
      "TIMING: dataset construction took 0.494 s\n",
      "Loading dataset from disk.\n",
      "TIMING: dataset construction took 0.303 s\n",
      "Loading dataset from disk.\n",
      "TIMING: dataset construction took 0.203 s\n",
      "Loading dataset from disk.\n",
      "\n",
      "Evaluating model number 09.\n",
      "Train ROC-AUC Score: 0.870, Valid ROC-AUC Score: 0.826, Test ROC-AUC Score: 0.874.\n",
      "\n",
      "TIMING: dataset construction took 0.516 s\n",
      "Loading dataset from disk.\n",
      "TIMING: dataset construction took 0.306 s\n",
      "Loading dataset from disk.\n",
      "TIMING: dataset construction took 0.214 s\n",
      "Loading dataset from disk.\n",
      "\n",
      "Evaluating model number 10.\n",
      "Train ROC-AUC Score: 0.867, Valid ROC-AUC Score: 0.868, Test ROC-AUC Score: 0.867.\n",
      "\n"
     ],
     "output_type": "stream"
    },
    {
     "name": "stderr",
     "text": [
      "/home/veritas/anaconda3/envs/dc/lib/python3.6/site-packages/tensorflow/python/ops/gradients_util.py:93: UserWarning: Converting sparse IndexedSlices to a dense Tensor of unknown shape. This may consume a large amount of memory.\n",
      "  \"Converting sparse IndexedSlices to a dense Tensor of unknown shape. \"\n",
      "/home/veritas/anaconda3/envs/dc/lib/python3.6/site-packages/tensorflow/python/ops/gradients_util.py:93: UserWarning: Converting sparse IndexedSlices to a dense Tensor of unknown shape. This may consume a large amount of memory.\n",
      "  \"Converting sparse IndexedSlices to a dense Tensor of unknown shape. \"\n",
      "/home/veritas/anaconda3/envs/dc/lib/python3.6/site-packages/tensorflow/python/ops/gradients_util.py:93: UserWarning: Converting sparse IndexedSlices to a dense Tensor of unknown shape. This may consume a large amount of memory.\n",
      "  \"Converting sparse IndexedSlices to a dense Tensor of unknown shape. \"\n"
     ],
     "output_type": "stream"
    }
   ],
   "source": [
    "# define metric as roc_auc_score\n",
    "metric = dc.metrics.Metric(dc.metrics.roc_auc_score, task_averager=np.mean, verbose=False, mode='classification')\n",
    "\n",
    "num_models = 10 # the number of iteration\n",
    "roc_auc_train = list() # save roc_auc value for training dataset\n",
    "roc_auc_valid = list() # save roc_auc value for validation dataset\n",
    "roc_auc_test = list() # save roc_auc value for test dataset\n",
    "\n",
    "# Do featurization\n",
    "conv_feature = make_feature(data_name='BACE', feature_name='GraphConv')\n",
    "\n",
    "for i in range(num_models):\n",
    "    # Load ith dataset with GraphConv Featurizer and random split\n",
    "    train_dataset, valid_dataset, test_dataset = split_data(conv_feature)\n",
    "    \n",
    "    # Fitting ith model with training dataset\n",
    "    gcn_model.fit(train_dataset, epochs=3) # fitting with training epoch 3\n",
    "    \n",
    "    # Evaluating model   \n",
    "    # save roc_auc for training dataset\n",
    "    pred_train = gcn_model.predict(train_dataset)\n",
    "    pred_train = process_prediction(y_true=train_dataset.y, y_pred=pred_train)\n",
    "    train_scores = metric.compute_metric(y_true=train_dataset.y, y_pred=pred_train, w=train_dataset.w)\n",
    "    roc_auc_train.append(train_scores)\n",
    "\n",
    "    # save roc_auc for valid dataset\n",
    "    pred_valid = gcn_model.predict(valid_dataset)\n",
    "    pred_valid = process_prediction(y_true=valid_dataset.y, y_pred=pred_valid)\n",
    "    valid_scores = metric.compute_metric(y_true=valid_dataset.y, y_pred=pred_valid, w=valid_dataset.w)\n",
    "    roc_auc_valid.append(valid_scores)\n",
    "   \n",
    "    # save roc_auc for test dataset\n",
    "    pred_test = gcn_model.predict(test_dataset)\n",
    "    pred_test = process_prediction(y_true=test_dataset.y, y_pred=pred_test)\n",
    "    test_scores = metric.compute_metric(y_true=test_dataset.y, y_pred=pred_test, w=test_dataset.w)\n",
    "    roc_auc_test.append(test_scores)   \n",
    "    \n",
    "    # print roc_auc result\n",
    "    print(f'\\nEvaluating model number {i+1:02d}.')  # 1-based indexing of model number.\n",
    "    print(f'Train ROC-AUC Score: {train_scores:.3f}, '\n",
    "          f'Valid ROC-AUC Score: {valid_scores:.3f}, Test ROC-AUC Score: {test_scores:.3f}.\\n')"
   ]
  },
  {
   "cell_type": "markdown",
   "metadata": {},
   "source": [
    "## Calculate mean value of ROC-AUC and use std1 for error bar in GCN model"
   ]
  },
  {
   "cell_type": "code",
   "execution_count": 4,
   "metadata": {
    "pycharm": {
     "is_executing": false
    }
   },
   "outputs": [],
   "source": [
    "gcn_values = list()\n",
    "gcn_values.append(np.mean(roc_auc_train))\n",
    "gcn_values.append(np.mean(roc_auc_valid))\n",
    "gcn_values.append(np.mean(roc_auc_test))\n",
    "gcn_stds = list()\n",
    "gcn_stds.append(np.std(roc_auc_train))\n",
    "gcn_stds.append(np.std(roc_auc_valid))\n",
    "gcn_stds.append(np.std(roc_auc_test))"
   ]
  },
  {
   "cell_type": "markdown",
   "metadata": {},
   "source": [
    "## Build Multi Layer Perceptron using keras"
   ]
  },
  {
   "cell_type": "code",
   "execution_count": 5,
   "metadata": {
    "pycharm": {
     "is_executing": false
    }
   },
   "outputs": [],
   "source": [
    "batch_size = 50\n",
    "dense_model = MLP(batch_size=batch_size)"
   ]
  },
  {
   "cell_type": "markdown",
   "metadata": {},
   "source": [
    "## Training Multi Layer Percpetron Model and Calculate ROC-AUC"
   ]
  },
  {
   "cell_type": "code",
   "execution_count": 6,
   "metadata": {
    "scrolled": true,
    "pycharm": {
     "is_executing": false
    }
   },
   "outputs": [
    {
     "name": "stdout",
     "text": [
      "Loading raw samples now.\n",
      "shard_size: 8192\n",
      "About to start loading CSV from ../data/bace.csv\n",
      "Loading shard 1 of size 8192.\n",
      "Featurizing sample 0\n",
      "Featurizing sample 1000\n",
      "TIMING: featurizing shard 0 took 2.075 s\n",
      "TIMING: dataset construction took 2.208 s\n",
      "Loading dataset from disk.\n",
      "TIMING: dataset construction took 0.047 s\n",
      "Loading dataset from disk.\n",
      "TIMING: dataset construction took 0.042 s\n",
      "Loading dataset from disk.\n",
      "TIMING: dataset construction took 0.026 s\n",
      "Loading dataset from disk.\n",
      "TIMING: dataset construction took 0.023 s\n",
      "Loading dataset from disk.\n",
      "\n",
      "Evaluating model number 01.\n",
      "Train ROC-AUC Score: 0.902, Valid ROC-AUC Score: 0.753, Test ROC-AUC Score: 0.837.\n",
      "\n",
      "TIMING: dataset construction took 0.042 s\n",
      "Loading dataset from disk.\n",
      "TIMING: dataset construction took 0.020 s\n",
      "Loading dataset from disk.\n",
      "TIMING: dataset construction took 0.020 s\n",
      "Loading dataset from disk.\n",
      "\n",
      "Evaluating model number 02.\n",
      "Train ROC-AUC Score: 0.931, Valid ROC-AUC Score: 0.925, Test ROC-AUC Score: 0.922.\n",
      "\n",
      "TIMING: dataset construction took 0.044 s\n",
      "Loading dataset from disk.\n",
      "TIMING: dataset construction took 0.022 s\n",
      "Loading dataset from disk.\n",
      "TIMING: dataset construction took 0.022 s\n",
      "Loading dataset from disk.\n",
      "\n",
      "Evaluating model number 03.\n",
      "Train ROC-AUC Score: 0.966, Valid ROC-AUC Score: 0.953, Test ROC-AUC Score: 0.905.\n",
      "\n",
      "TIMING: dataset construction took 0.042 s\n",
      "Loading dataset from disk.\n",
      "TIMING: dataset construction took 0.020 s\n",
      "Loading dataset from disk.\n",
      "TIMING: dataset construction took 0.020 s\n",
      "Loading dataset from disk.\n",
      "\n",
      "Evaluating model number 04.\n",
      "Train ROC-AUC Score: 0.984, Valid ROC-AUC Score: 0.947, Test ROC-AUC Score: 0.962.\n",
      "\n",
      "TIMING: dataset construction took 0.042 s\n",
      "Loading dataset from disk.\n",
      "TIMING: dataset construction took 0.020 s\n",
      "Loading dataset from disk.\n",
      "TIMING: dataset construction took 0.021 s\n",
      "Loading dataset from disk.\n",
      "\n",
      "Evaluating model number 05.\n",
      "Train ROC-AUC Score: 0.994, Valid ROC-AUC Score: 0.971, Test ROC-AUC Score: 0.948.\n",
      "\n",
      "TIMING: dataset construction took 0.044 s\n",
      "Loading dataset from disk.\n",
      "TIMING: dataset construction took 0.021 s\n",
      "Loading dataset from disk.\n",
      "TIMING: dataset construction took 0.020 s\n",
      "Loading dataset from disk.\n",
      "\n",
      "Evaluating model number 06.\n",
      "Train ROC-AUC Score: 0.996, Valid ROC-AUC Score: 0.979, Test ROC-AUC Score: 0.982.\n",
      "\n",
      "TIMING: dataset construction took 0.042 s\n",
      "Loading dataset from disk.\n",
      "TIMING: dataset construction took 0.019 s\n",
      "Loading dataset from disk.\n",
      "TIMING: dataset construction took 0.020 s\n",
      "Loading dataset from disk.\n",
      "\n",
      "Evaluating model number 07.\n",
      "Train ROC-AUC Score: 0.999, Valid ROC-AUC Score: 0.979, Test ROC-AUC Score: 0.993.\n",
      "\n",
      "TIMING: dataset construction took 0.043 s\n",
      "Loading dataset from disk.\n",
      "TIMING: dataset construction took 0.022 s\n",
      "Loading dataset from disk.\n",
      "TIMING: dataset construction took 0.020 s\n",
      "Loading dataset from disk.\n",
      "\n",
      "Evaluating model number 08.\n",
      "Train ROC-AUC Score: 0.999, Valid ROC-AUC Score: 0.999, Test ROC-AUC Score: 0.989.\n",
      "\n",
      "TIMING: dataset construction took 0.043 s\n",
      "Loading dataset from disk.\n",
      "TIMING: dataset construction took 0.021 s\n",
      "Loading dataset from disk.\n",
      "TIMING: dataset construction took 0.020 s\n",
      "Loading dataset from disk.\n",
      "\n",
      "Evaluating model number 09.\n",
      "Train ROC-AUC Score: 1.000, Valid ROC-AUC Score: 0.998, Test ROC-AUC Score: 0.993.\n",
      "\n",
      "TIMING: dataset construction took 0.042 s\n",
      "Loading dataset from disk.\n",
      "TIMING: dataset construction took 0.020 s\n",
      "Loading dataset from disk.\n",
      "TIMING: dataset construction took 0.021 s\n",
      "Loading dataset from disk.\n",
      "\n",
      "Evaluating model number 10.\n",
      "Train ROC-AUC Score: 1.000, Valid ROC-AUC Score: 0.998, Test ROC-AUC Score: 0.998.\n",
      "\n"
     ],
     "output_type": "stream"
    }
   ],
   "source": [
    "# define metric as roc_auc_score\n",
    "metric = dc.metrics.Metric(dc.metrics.roc_auc_score, task_averager=np.mean, verbose=False, mode='classification')\n",
    "\n",
    "num_models = 10 # the number of iteration\n",
    "roc_auc_train = list() # save roc_auc value for training dataset\n",
    "roc_auc_valid = list() # save roc_auc value for validation dataset\n",
    "roc_auc_test = list() # save roc_auc value for test dataset\n",
    "\n",
    "# Do featurization\n",
    "ecfp_feature = make_feature(data_name='BACE', feature_name='ECFP')\n",
    "\n",
    "for i in range(num_models):\n",
    "    # Load ith dataset with GraphConv Featurizer and random split\n",
    "    train_dataset, valid_dataset, test_dataset = split_data(ecfp_feature)\n",
    "    \n",
    "    # Fitting ith model with training dataset\n",
    "    dense_model.fit(train_dataset, epochs=3) # fitting with training epoch 3\n",
    "    \n",
    "    # Evaluating model   \n",
    "    # save roc_auc for training dataset\n",
    "    pred_train = dense_model.predict(train_dataset)\n",
    "    pred_train = process_prediction(y_true=train_dataset.y, y_pred=pred_train)\n",
    "    train_scores = metric.compute_metric(y_true=train_dataset.y, y_pred=pred_train)\n",
    "    roc_auc_train.append(train_scores)\n",
    "\n",
    "    # save roc_auc for valid dataset\n",
    "    pred_valid = dense_model.predict(valid_dataset)\n",
    "    pred_valid = process_prediction(y_true=valid_dataset.y, y_pred=pred_valid)\n",
    "    valid_scores = metric.compute_metric(y_true=valid_dataset.y, y_pred=pred_valid)\n",
    "    roc_auc_valid.append(valid_scores)\n",
    "   \n",
    "    # save roc_auc for test dataset\n",
    "    pred_test = dense_model.predict(test_dataset)\n",
    "    pred_test = process_prediction(y_true=test_dataset.y, y_pred=pred_test)\n",
    "    test_scores = metric.compute_metric(y_true=test_dataset.y, y_pred=pred_test)\n",
    "    roc_auc_test.append(test_scores)   \n",
    "    \n",
    "    # print roc_auc result\n",
    "    print(f'\\nEvaluating model number {i+1:02d}.')\n",
    "    print(f'Train ROC-AUC Score: {train_scores:.3f}, '\n",
    "          f'Valid ROC-AUC Score: {valid_scores:.3f}, Test ROC-AUC Score: {test_scores:.3f}.\\n')"
   ]
  },
  {
   "cell_type": "markdown",
   "metadata": {},
   "source": [
    "## Calculate mean value of ROC-AUC and use std1 for error bar in MLP model"
   ]
  },
  {
   "cell_type": "code",
   "execution_count": 7,
   "metadata": {
    "pycharm": {
     "is_executing": false
    }
   },
   "outputs": [],
   "source": [
    "mlp_values = list()\n",
    "mlp_values.append(np.mean(roc_auc_train))\n",
    "mlp_values.append(np.mean(roc_auc_valid))\n",
    "mlp_values.append(np.mean(roc_auc_test))\n",
    "mlp_stds = list()\n",
    "mlp_stds.append(np.std(roc_auc_train))\n",
    "mlp_stds.append(np.std(roc_auc_valid))\n",
    "mlp_stds.append(np.std(roc_auc_test))"
   ]
  },
  {
   "cell_type": "markdown",
   "metadata": {},
   "source": [
    "## Plot ROC-AUC Score"
   ]
  },
  {
   "cell_type": "code",
   "execution_count": 8,
   "metadata": {
    "pycharm": {
     "is_executing": false,
     "name": "#%%\n"
    }
   },
   "outputs": [
    {
     "data": {
      "text/plain": "<Figure size 432x288 with 1 Axes>",
      "image/png": "[encoded data removed]"
     },
     "metadata": {
      "needs_background": "light"
     },
     "output_type": "display_data"
    }
   ],
   "source": [
    "from matplotlib import pyplot as plt\n",
    "%matplotlib inline\n",
    "\n",
    "topics = ['train', 'valid', 'test']\n",
    "\n",
    "def create_x(t, w, n, d):\n",
    "    return [t*x + w*n for x in range(d)]\n",
    "\n",
    "gcn_values_x = create_x(2, 0.8, 1, 3)\n",
    "mlp_values_x = create_x(2, 0.8, 2, 3)\n",
    "\n",
    "ax = plt.subplot()\n",
    "p1 = ax.bar(gcn_values_x, gcn_values, yerr=gcn_stds, capsize=1)\n",
    "p2 = ax.bar(mlp_values_x, mlp_values, yerr=mlp_stds, capsize=1)\n",
    "\n",
    "middle_x = [(a+b)/2 for (a,b) in zip(gcn_values_x, mlp_values_x)]\n",
    "\n",
    "ax.set_title('Mean ROC-AUC Score for GCN/MLP Model')\n",
    "ax.set_xlabel('Dataset')\n",
    "ax.set_ylabel('ROC-AUC Score')\n",
    "ax.legend((p1[0], p2[0]), ('GCN', 'MLP'), fontsize=15)\n",
    "ax.set_xticks(middle_x)\n",
    "ax.set_xticklabels(topics)\n",
    "plt.show()\n"
   ]
  }
 ],
 "metadata": {
  "kernelspec": {
   "name": "python3",
   "language": "python",
   "display_name": "Python 3"
  },
  "language_info": {
   "codemirror_mode": {
    "name": "ipython",
    "version": 3
   },
   "file_extension": ".py",
   "mimetype": "text/x-python",
   "name": "python",
   "nbconvert_exporter": "python",
   "pygments_lexer": "ipython3",
   "version": "3.6.7"
  },
  "pycharm": {
   "stem_cell": {
    "cell_type": "raw",
    "source": [],
    "metadata": {
     "collapsed": false
    }
   }
  }
 },
 "nbformat": 4,
 "nbformat_minor": 1
}
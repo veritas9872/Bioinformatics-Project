{
 "cells": [
  {
   "cell_type": "markdown",
   "metadata": {},
   "source": [
    "# Bis438 Final Project Problem 2"
   ]
  },
  {
   "cell_type": "markdown",
   "metadata": {},
   "source": [
    "## Import Python Libraries"
   ]
  },
  {
   "cell_type": "code",
   "execution_count": 1,
   "metadata": {
    "pycharm": {
     "is_executing": false,
     "name": "#%%\n"
    }
   },
   "outputs": [
    {
     "name": "stderr",
     "output_type": "stream",
     "text": [
      "/home/baseline/.conda/envs/test/lib/python3.6/site-packages/sklearn/ensemble/weight_boosting.py:29: DeprecationWarning: numpy.core.umath_tests is an internal NumPy module and should not be imported. It will be removed in a future NumPy release.\n",
      "  from numpy.core.umath_tests import inner1d\n"
     ]
    }
   ],
   "source": [
    "import tensorflow as tf\n",
    "import numpy as np\n",
    "import deepchem as dc\n",
    "\n",
    "from model import GCN\n",
    "from utils import process_prediction"
   ]
  },
  {
   "cell_type": "markdown",
   "metadata": {
    "pycharm": {
     "is_executing": false,
     "name": "#%%\n"
    }
   },
   "source": [
    "## Build GraphConv Model"
   ]
  },
  {
   "cell_type": "code",
   "execution_count": 2,
   "metadata": {
    "pycharm": {
     "is_executing": false,
     "name": "#%%\n"
    }
   },
   "outputs": [],
   "source": [
    "batch_size = 50\n",
    "model = GCN(batch_size=batch_size) # build model"
   ]
  },
  {
   "cell_type": "markdown",
   "metadata": {},
   "source": [
    "## Training GraphConv Model and Calculate ROC-AUC"
   ]
  },
  {
   "cell_type": "code",
   "execution_count": 3,
   "metadata": {},
   "outputs": [
    {
     "name": "stdout",
     "output_type": "stream",
     "text": [
      "Loading dataset from disk.\n",
      "Loading dataset from disk.\n",
      "Loading dataset from disk.\n"
     ]
    },
    {
     "name": "stderr",
     "output_type": "stream",
     "text": [
      "/home/baseline/.conda/envs/test/lib/python3.6/site-packages/tensorflow/python/ops/gradients_impl.py:98: UserWarning: Converting sparse IndexedSlices to a dense Tensor of unknown shape. This may consume a large amount of memory.\n",
      "  \"Converting sparse IndexedSlices to a dense Tensor of unknown shape. \"\n"
     ]
    },
    {
     "name": "stdout",
     "output_type": "stream",
     "text": [
      "computed_metrics: [0.79047976011994]\n",
      "computed_metrics: [0.73026547116737]\n",
      "computed_metrics: [0.7929362880886426]\n",
      "Evaluating model number  0\n",
      "Train ROC-AUC Score:  0.79047976011994 Valid ROC-AUC Score:  0.73026547116737 Test ROC-AUC Score:  0.7929362880886426\n",
      "Loading dataset from disk.\n",
      "Loading dataset from disk.\n",
      "Loading dataset from disk.\n",
      "computed_metrics: [0.8495482921522663]\n",
      "computed_metrics: [0.8045886075949367]\n",
      "computed_metrics: [0.8310249307479225]\n",
      "Evaluating model number  1\n",
      "Train ROC-AUC Score:  0.8495482921522663 Valid ROC-AUC Score:  0.8045886075949367 Test ROC-AUC Score:  0.8310249307479225\n",
      "Loading dataset from disk.\n",
      "Loading dataset from disk.\n",
      "Loading dataset from disk.\n",
      "computed_metrics: [0.8657839588493046]\n",
      "computed_metrics: [0.807753164556962]\n",
      "computed_metrics: [0.839854570637119]\n",
      "Evaluating model number  2\n",
      "Train ROC-AUC Score:  0.8657839588493046 Valid ROC-AUC Score:  0.807753164556962 Test ROC-AUC Score:  0.839854570637119\n",
      "Loading dataset from disk.\n",
      "Loading dataset from disk.\n",
      "Loading dataset from disk.\n",
      "computed_metrics: [0.8672210855898017]\n",
      "computed_metrics: [0.8174226441631505]\n",
      "computed_metrics: [0.8452216066481995]\n",
      "Evaluating model number  3\n",
      "Train ROC-AUC Score:  0.8672210855898017 Valid ROC-AUC Score:  0.8174226441631505 Test ROC-AUC Score:  0.8452216066481995\n",
      "Loading dataset from disk.\n",
      "Loading dataset from disk.\n",
      "Loading dataset from disk.\n",
      "computed_metrics: [0.8870412859868408]\n",
      "computed_metrics: [0.8211146272855134]\n",
      "computed_metrics: [0.8486842105263157]\n",
      "Evaluating model number  4\n",
      "Train ROC-AUC Score:  0.8870412859868408 Valid ROC-AUC Score:  0.8211146272855134 Test ROC-AUC Score:  0.8486842105263157\n",
      "Loading dataset from disk.\n",
      "Loading dataset from disk.\n",
      "Loading dataset from disk.\n",
      "computed_metrics: [0.8926572625289565]\n",
      "computed_metrics: [0.8330696202531646]\n",
      "computed_metrics: [0.8557825484764543]\n",
      "Evaluating model number  5\n",
      "Train ROC-AUC Score:  0.8926572625289565 Valid ROC-AUC Score:  0.8330696202531646 Test ROC-AUC Score:  0.8557825484764543\n",
      "Loading dataset from disk.\n",
      "Loading dataset from disk.\n",
      "Loading dataset from disk.\n",
      "computed_metrics: [0.8927752974341558]\n",
      "computed_metrics: [0.8272239803094233]\n",
      "computed_metrics: [0.8358725761772853]\n",
      "Evaluating model number  6\n",
      "Train ROC-AUC Score:  0.8927752974341558 Valid ROC-AUC Score:  0.8272239803094233 Test ROC-AUC Score:  0.8358725761772853\n",
      "Loading dataset from disk.\n",
      "Loading dataset from disk.\n",
      "Loading dataset from disk.\n",
      "computed_metrics: [0.9067772743462523]\n",
      "computed_metrics: [0.8320147679324894]\n",
      "computed_metrics: [0.864612188365651]\n",
      "Evaluating model number  7\n",
      "Train ROC-AUC Score:  0.9067772743462523 Valid ROC-AUC Score:  0.8320147679324894 Test ROC-AUC Score:  0.864612188365651\n",
      "Loading dataset from disk.\n",
      "Loading dataset from disk.\n",
      "Loading dataset from disk.\n",
      "computed_metrics: [0.9114158390418051]\n",
      "computed_metrics: [0.8418600562587905]\n",
      "computed_metrics: [0.8511080332409973]\n",
      "Evaluating model number  8\n",
      "Train ROC-AUC Score:  0.9114158390418051 Valid ROC-AUC Score:  0.8418600562587905 Test ROC-AUC Score:  0.8511080332409973\n",
      "Loading dataset from disk.\n",
      "Loading dataset from disk.\n",
      "Loading dataset from disk.\n",
      "computed_metrics: [0.9243913954624897]\n",
      "computed_metrics: [0.8432665260196905]\n",
      "computed_metrics: [0.8554362880886427]\n",
      "Evaluating model number  9\n",
      "Train ROC-AUC Score:  0.9243913954624897 Valid ROC-AUC Score:  0.8432665260196905 Test ROC-AUC Score:  0.8554362880886427\n"
     ]
    }
   ],
   "source": [
    "metric = dc.metrics.Metric(dc.metrics.roc_auc_score, np.mean, mode=\"classification\") # define metric as roc_auc_score\n",
    "\n",
    "num_models = 10 # the number of iteration\n",
    "rocauc_train = [] # save rocauc value for training dataset\n",
    "rocauc_valid = [] # save rocauc value for validation dataset\n",
    "rocauc_test = [] # save rocauc value for test dataset\n",
    "\n",
    "for i in range(num_models):\n",
    "    # Load ith dataset with GraphConv Featurizer and random split\n",
    "    bace_tasks, bace_datasets, transformers = dc.molnet.load_bace_classification(featurizer='GraphConv',split='random')\n",
    "    train_dataset, valid_dataset, test_dataset = bace_datasets\n",
    "    \n",
    "    # Fitting ith model with training dataset\n",
    "    model.fit(train_dataset, 3) # fitting with training epoch 3\n",
    "    \n",
    "    # Evaluating model   \n",
    "    # save rocauc for training dataset\n",
    "    pred_train = model.predict(train_dataset)\n",
    "    pred_train = process_prediction(train_dataset.y, pred_train)\n",
    "    train_scores = metric.compute_metric(train_dataset.y, pred_train, train_dataset.w)\n",
    "    rocauc_train.append(train_scores)\n",
    "\n",
    "    # save rocauc for valid dataset\n",
    "    pred_valid = model.predict(valid_dataset)\n",
    "    pred_valid = process_prediction(valid_dataset.y, pred_valid)\n",
    "    valid_scores = metric.compute_metric(valid_dataset.y, pred_valid, valid_dataset.w)\n",
    "    rocauc_valid.append(valid_scores)\n",
    "   \n",
    "    # save rocauc for test dataset\n",
    "    pred_test = model.predict(test_dataset)\n",
    "    pred_test = process_prediction(test_dataset.y, pred_test)\n",
    "    test_scores = metric.compute_metric(test_dataset.y, pred_test, test_dataset.w)\n",
    "    rocauc_test.append(test_scores)   \n",
    "    \n",
    "    # print rocauc result\n",
    "    print(\"Evaluating model number \", i)\n",
    "    print(\"Train ROC-AUC Score: \" , train_scores,  \n",
    "          \"Valid ROC-AUC Score: \" , valid_scores,\n",
    "          \"Test ROC-AUC Score: \" , test_scores)    "
   ]
  },
  {
   "cell_type": "markdown",
   "metadata": {},
   "source": [
    "## Calculate mean value of ROC-AUC and use std1 for error bar"
   ]
  },
  {
   "cell_type": "code",
   "execution_count": 4,
   "metadata": {},
   "outputs": [],
   "source": [
    "values = []\n",
    "values.append(np.mean(rocauc_train))\n",
    "values.append(np.mean(rocauc_valid))\n",
    "values.append(np.mean(rocauc_test))\n",
    "stds = []\n",
    "stds.append(np.std(rocauc_train))\n",
    "stds.append(np.std(rocauc_valid))\n",
    "stds.append(np.std(rocauc_test))"
   ]
  },
  {
   "cell_type": "markdown",
   "metadata": {},
   "source": [
    "## Plot ROC-AUC Score"
   ]
  },
  {
   "cell_type": "code",
   "execution_count": 5,
   "metadata": {},
   "outputs": [
    {
     "data": {
      "image/png": "[encoded data removed]",
      "text/plain": [
       "<Figure size 432x288 with 1 Axes>"
      ]
     },
     "metadata": {
      "needs_background": "light"
     },
     "output_type": "display_data"
    }
   ],
   "source": [
    "from matplotlib import pyplot as plt\n",
    "%matplotlib inline\n",
    "topics = ['train', 'valid', 'test']\n",
    "plt.bar(topics, values, yerr=stds, capsize=2)\n",
    "\n",
    "plt.title('GCN Model')\n",
    "plt.xlabel('Dataset')\n",
    "plt.ylabel('ROC-AUC Score')\n",
    "plt.show()"
   ]
  }
 ],
 "metadata": {
  "kernelspec": {
   "display_name": "dckernel",
   "language": "python",
   "name": "test"
  },
  "language_info": {
   "codemirror_mode": {
    "name": "ipython",
    "version": 3
   },
   "file_extension": ".py",
   "mimetype": "text/x-python",
   "name": "python",
   "nbconvert_exporter": "python",
   "pygments_lexer": "ipython3",
   "version": "3.6.7"
  },
  "pycharm": {
   "stem_cell": {
    "cell_type": "raw",
    "metadata": {
     "collapsed": false
    },
    "source": []
   }
  }
 },
 "nbformat": 4,
 "nbformat_minor": 1
}

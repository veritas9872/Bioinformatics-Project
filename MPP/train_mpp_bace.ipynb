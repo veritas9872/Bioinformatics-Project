{
 "cells": [
  {
   "cell_type": "markdown",
   "metadata": {},
   "source": [
    "# Bis438 Final Project Problem 2"
   ]
  },
  {
   "cell_type": "markdown",
   "metadata": {},
   "source": [
    "## Import Python Libraries"
   ]
  },
  {
   "cell_type": "code",
   "execution_count": 1,
   "metadata": {
    "pycharm": {
     "is_executing": false,
     "name": "#%%\n"
    }
   },
   "outputs": [
    {
     "name": "stderr",
     "output_type": "stream",
     "text": [
      "/home/baseline/.conda/envs/test/lib/python3.6/site-packages/sklearn/ensemble/weight_boosting.py:29: DeprecationWarning: numpy.core.umath_tests is an internal NumPy module and should not be imported. It will be removed in a future NumPy release.\n",
      "  from numpy.core.umath_tests import inner1d\n"
     ]
    }
   ],
   "source": [
    "import tensorflow as tf\n",
    "import numpy as np\n",
    "import deepchem as dc\n",
    "\n",
    "from model import GCN\n",
    "from utils import process_prediction"
   ]
  },
  {
   "cell_type": "markdown",
   "metadata": {
    "pycharm": {
     "is_executing": false,
     "name": "#%%\n"
    }
   },
   "source": [
    "## Build GraphConv Model"
   ]
  },
  {
   "cell_type": "code",
   "execution_count": 2,
   "metadata": {
    "pycharm": {
     "is_executing": false,
     "name": "#%%\n"
    }
   },
   "outputs": [],
   "source": [
    "batch_size = 50\n",
    "model = GCN(batch_size=batch_size) # build model"
   ]
  },
  {
   "cell_type": "markdown",
   "metadata": {},
   "source": [
    "## Training GraphConv Model and Calculate ROC-AUC"
   ]
  },
  {
   "cell_type": "code",
   "execution_count": 3,
   "metadata": {},
   "outputs": [
    {
     "name": "stdout",
     "output_type": "stream",
     "text": [
      "Loading raw samples now.\n",
      "shard_size: 8192\n",
      "About to start loading CSV from /tmp/bace.csv\n",
      "Loading shard 1 of size 8192.\n",
      "Featurizing sample 0\n",
      "Featurizing sample 1000\n",
      "TIMING: featurizing shard 0 took 3.269 s\n",
      "TIMING: dataset construction took 4.022 s\n",
      "Loading dataset from disk.\n",
      "TIMING: dataset construction took 0.783 s\n",
      "Loading dataset from disk.\n",
      "TIMING: dataset construction took 0.589 s\n",
      "Loading dataset from disk.\n",
      "TIMING: dataset construction took 0.402 s\n",
      "Loading dataset from disk.\n",
      "TIMING: dataset construction took 0.321 s\n",
      "Loading dataset from disk.\n"
     ]
    },
    {
     "name": "stderr",
     "output_type": "stream",
     "text": [
      "/home/baseline/.conda/envs/test/lib/python3.6/site-packages/tensorflow/python/ops/gradients_impl.py:98: UserWarning: Converting sparse IndexedSlices to a dense Tensor of unknown shape. This may consume a large amount of memory.\n",
      "  \"Converting sparse IndexedSlices to a dense Tensor of unknown shape. \"\n"
     ]
    },
    {
     "name": "stdout",
     "output_type": "stream",
     "text": [
      "computed_metrics: [0.741134027729875]\n",
      "computed_metrics: [0.7297819971870605]\n",
      "computed_metrics: [0.7655925155925156]\n",
      "Evaluating model number  0\n",
      "Train ROC-AUC Score:  0.741134027729875 Valid ROC-AUC Score:  0.7297819971870605 Test ROC-AUC Score:  0.7655925155925156\n",
      "Loading raw samples now.\n",
      "shard_size: 8192\n",
      "About to start loading CSV from /tmp/bace.csv\n",
      "Loading shard 1 of size 8192.\n",
      "Featurizing sample 0\n",
      "Featurizing sample 1000\n",
      "TIMING: featurizing shard 0 took 3.145 s\n",
      "TIMING: dataset construction took 3.766 s\n",
      "Loading dataset from disk.\n",
      "TIMING: dataset construction took 0.889 s\n",
      "Loading dataset from disk.\n",
      "TIMING: dataset construction took 0.606 s\n",
      "Loading dataset from disk.\n",
      "TIMING: dataset construction took 0.234 s\n",
      "Loading dataset from disk.\n",
      "TIMING: dataset construction took 0.424 s\n",
      "Loading dataset from disk.\n",
      "computed_metrics: [0.8377162162534548]\n",
      "computed_metrics: [0.8101802757158006]\n",
      "computed_metrics: [0.8073521761747877]\n",
      "Evaluating model number  1\n",
      "Train ROC-AUC Score:  0.8377162162534548 Valid ROC-AUC Score:  0.8101802757158006 Test ROC-AUC Score:  0.8073521761747877\n",
      "Loading raw samples now.\n",
      "shard_size: 8192\n",
      "About to start loading CSV from /tmp/bace.csv\n",
      "Loading shard 1 of size 8192.\n",
      "Featurizing sample 0\n",
      "Featurizing sample 1000\n",
      "TIMING: featurizing shard 0 took 3.850 s\n",
      "TIMING: dataset construction took 4.599 s\n",
      "Loading dataset from disk.\n",
      "TIMING: dataset construction took 0.999 s\n",
      "Loading dataset from disk.\n",
      "TIMING: dataset construction took 0.732 s\n",
      "Loading dataset from disk.\n",
      "TIMING: dataset construction took 0.284 s\n",
      "Loading dataset from disk.\n",
      "TIMING: dataset construction took 0.281 s\n",
      "Loading dataset from disk.\n",
      "computed_metrics: [0.8607275978268345]\n",
      "computed_metrics: [0.8378378378378377]\n",
      "computed_metrics: [0.8399641577060931]\n",
      "Evaluating model number  2\n",
      "Train ROC-AUC Score:  0.8607275978268345 Valid ROC-AUC Score:  0.8378378378378377 Test ROC-AUC Score:  0.8399641577060931\n",
      "Loading raw samples now.\n",
      "shard_size: 8192\n",
      "About to start loading CSV from /tmp/bace.csv\n",
      "Loading shard 1 of size 8192.\n",
      "Featurizing sample 0\n",
      "Featurizing sample 1000\n",
      "TIMING: featurizing shard 0 took 3.874 s\n",
      "TIMING: dataset construction took 4.615 s\n",
      "Loading dataset from disk.\n",
      "TIMING: dataset construction took 0.717 s\n",
      "Loading dataset from disk.\n",
      "TIMING: dataset construction took 0.797 s\n",
      "Loading dataset from disk.\n",
      "TIMING: dataset construction took 0.234 s\n",
      "Loading dataset from disk.\n",
      "TIMING: dataset construction took 0.229 s\n",
      "Loading dataset from disk.\n",
      "computed_metrics: [0.8733713253870302]\n",
      "computed_metrics: [0.8488943488943489]\n",
      "computed_metrics: [0.8662508662508662]\n",
      "Evaluating model number  3\n",
      "Train ROC-AUC Score:  0.8733713253870302 Valid ROC-AUC Score:  0.8488943488943489 Test ROC-AUC Score:  0.8662508662508662\n",
      "Loading raw samples now.\n",
      "shard_size: 8192\n",
      "About to start loading CSV from /tmp/bace.csv\n",
      "Loading shard 1 of size 8192.\n",
      "Featurizing sample 0\n",
      "Featurizing sample 1000\n",
      "TIMING: featurizing shard 0 took 4.001 s\n",
      "TIMING: dataset construction took 4.743 s\n",
      "Loading dataset from disk.\n",
      "TIMING: dataset construction took 0.836 s\n",
      "Loading dataset from disk.\n",
      "TIMING: dataset construction took 0.735 s\n",
      "Loading dataset from disk.\n",
      "TIMING: dataset construction took 0.497 s\n",
      "Loading dataset from disk.\n",
      "TIMING: dataset construction took 0.273 s\n",
      "Loading dataset from disk.\n",
      "computed_metrics: [0.873842864040836]\n",
      "computed_metrics: [0.8160211267605635]\n",
      "computed_metrics: [0.8396536796536795]\n",
      "Evaluating model number  4\n",
      "Train ROC-AUC Score:  0.873842864040836 Valid ROC-AUC Score:  0.8160211267605635 Test ROC-AUC Score:  0.8396536796536795\n",
      "Loading raw samples now.\n",
      "shard_size: 8192\n",
      "About to start loading CSV from /tmp/bace.csv\n",
      "Loading shard 1 of size 8192.\n",
      "Featurizing sample 0\n",
      "Featurizing sample 1000\n",
      "TIMING: featurizing shard 0 took 3.839 s\n",
      "TIMING: dataset construction took 4.594 s\n",
      "Loading dataset from disk.\n",
      "TIMING: dataset construction took 0.829 s\n",
      "Loading dataset from disk.\n",
      "TIMING: dataset construction took 0.745 s\n",
      "Loading dataset from disk.\n",
      "TIMING: dataset construction took 0.499 s\n",
      "Loading dataset from disk.\n",
      "TIMING: dataset construction took 0.288 s\n",
      "Loading dataset from disk.\n",
      "computed_metrics: [0.8606715990032417]\n",
      "computed_metrics: [0.8843453843453843]\n",
      "computed_metrics: [0.8982888074035272]\n",
      "Evaluating model number  5\n",
      "Train ROC-AUC Score:  0.8606715990032417 Valid ROC-AUC Score:  0.8843453843453843 Test ROC-AUC Score:  0.8982888074035272\n",
      "Loading raw samples now.\n",
      "shard_size: 8192\n",
      "About to start loading CSV from /tmp/bace.csv\n",
      "Loading shard 1 of size 8192.\n",
      "Featurizing sample 0\n",
      "Featurizing sample 1000\n",
      "TIMING: featurizing shard 0 took 3.824 s\n",
      "TIMING: dataset construction took 4.566 s\n",
      "Loading dataset from disk.\n",
      "TIMING: dataset construction took 0.819 s\n",
      "Loading dataset from disk.\n",
      "TIMING: dataset construction took 0.942 s\n",
      "Loading dataset from disk.\n",
      "TIMING: dataset construction took 0.295 s\n",
      "Loading dataset from disk.\n",
      "TIMING: dataset construction took 0.272 s\n",
      "Loading dataset from disk.\n",
      "computed_metrics: [0.8859718923851617]\n",
      "computed_metrics: [0.8871657754010696]\n",
      "computed_metrics: [0.8702370500438982]\n",
      "Evaluating model number  6\n",
      "Train ROC-AUC Score:  0.8859718923851617 Valid ROC-AUC Score:  0.8871657754010696 Test ROC-AUC Score:  0.8702370500438982\n",
      "Loading raw samples now.\n",
      "shard_size: 8192\n",
      "About to start loading CSV from /tmp/bace.csv\n",
      "Loading shard 1 of size 8192.\n",
      "Featurizing sample 0\n",
      "Featurizing sample 1000\n",
      "TIMING: featurizing shard 0 took 4.095 s\n",
      "TIMING: dataset construction took 4.838 s\n",
      "Loading dataset from disk.\n",
      "TIMING: dataset construction took 0.835 s\n",
      "Loading dataset from disk.\n",
      "TIMING: dataset construction took 0.736 s\n",
      "Loading dataset from disk.\n",
      "TIMING: dataset construction took 0.492 s\n",
      "Loading dataset from disk.\n",
      "TIMING: dataset construction took 0.269 s\n",
      "Loading dataset from disk.\n",
      "computed_metrics: [0.8881678150039624]\n",
      "computed_metrics: [0.8942959001782531]\n",
      "computed_metrics: [0.9285341679707877]\n",
      "Evaluating model number  7\n",
      "Train ROC-AUC Score:  0.8881678150039624 Valid ROC-AUC Score:  0.8942959001782531 Test ROC-AUC Score:  0.9285341679707877\n",
      "Loading raw samples now.\n",
      "shard_size: 8192\n",
      "About to start loading CSV from /tmp/bace.csv\n",
      "Loading shard 1 of size 8192.\n",
      "Featurizing sample 0\n",
      "Featurizing sample 1000\n",
      "TIMING: featurizing shard 0 took 3.126 s\n",
      "TIMING: dataset construction took 3.748 s\n",
      "Loading dataset from disk.\n",
      "TIMING: dataset construction took 0.876 s\n",
      "Loading dataset from disk.\n",
      "TIMING: dataset construction took 0.598 s\n",
      "Loading dataset from disk.\n",
      "TIMING: dataset construction took 0.231 s\n",
      "Loading dataset from disk.\n",
      "TIMING: dataset construction took 0.421 s\n",
      "Loading dataset from disk.\n",
      "computed_metrics: [0.8987181649519311]\n",
      "computed_metrics: [0.8596830985915493]\n",
      "computed_metrics: [0.8823784722222222]\n",
      "Evaluating model number  8\n",
      "Train ROC-AUC Score:  0.8987181649519311 Valid ROC-AUC Score:  0.8596830985915493 Test ROC-AUC Score:  0.8823784722222222\n",
      "Loading raw samples now.\n",
      "shard_size: 8192\n",
      "About to start loading CSV from /tmp/bace.csv\n",
      "Loading shard 1 of size 8192.\n",
      "Featurizing sample 0\n",
      "Featurizing sample 1000\n",
      "TIMING: featurizing shard 0 took 3.320 s\n",
      "TIMING: dataset construction took 3.941 s\n",
      "Loading dataset from disk.\n",
      "TIMING: dataset construction took 0.695 s\n",
      "Loading dataset from disk.\n",
      "TIMING: dataset construction took 0.606 s\n",
      "Loading dataset from disk.\n",
      "TIMING: dataset construction took 0.408 s\n",
      "Loading dataset from disk.\n",
      "TIMING: dataset construction took 0.231 s\n",
      "Loading dataset from disk.\n",
      "computed_metrics: [0.903597243234157]\n",
      "computed_metrics: [0.8812898653437279]\n",
      "computed_metrics: [0.8555093555093556]\n",
      "Evaluating model number  9\n",
      "Train ROC-AUC Score:  0.903597243234157 Valid ROC-AUC Score:  0.8812898653437279 Test ROC-AUC Score:  0.8555093555093556\n"
     ]
    }
   ],
   "source": [
    "metric = dc.metrics.Metric(dc.metrics.roc_auc_score, np.mean, mode=\"classification\") # define metric as roc_auc_score\n",
    "\n",
    "num_models = 10 # the number of iteration\n",
    "rocauc_train = [] # save rocauc value for training dataset\n",
    "rocauc_valid = [] # save rocauc value for validation dataset\n",
    "rocauc_test = [] # save rocauc value for test dataset\n",
    "\n",
    "for i in range(num_models):\n",
    "    # Load ith dataset with GraphConv Featurizer and random split\n",
    "    bace_tasks, bace_datasets, transformers = dc.molnet.load_bace_classification(featurizer='GraphConv',split='random', reload=False)\n",
    "    train_dataset, valid_dataset, test_dataset = bace_datasets\n",
    "    \n",
    "    # Fitting ith model with training dataset\n",
    "    model.fit(train_dataset, 3) # fitting with training epoch 3\n",
    "    \n",
    "    # Evaluating model   \n",
    "    # save rocauc for training dataset\n",
    "    pred_train = model.predict(train_dataset)\n",
    "    pred_train = process_prediction(train_dataset.y, pred_train)\n",
    "    train_scores = metric.compute_metric(train_dataset.y, pred_train, train_dataset.w)\n",
    "    rocauc_train.append(train_scores)\n",
    "\n",
    "    # save rocauc for valid dataset\n",
    "    pred_valid = model.predict(valid_dataset)\n",
    "    pred_valid = process_prediction(valid_dataset.y, pred_valid)\n",
    "    valid_scores = metric.compute_metric(valid_dataset.y, pred_valid, valid_dataset.w)\n",
    "    rocauc_valid.append(valid_scores)\n",
    "   \n",
    "    # save rocauc for test dataset\n",
    "    pred_test = model.predict(test_dataset)\n",
    "    pred_test = process_prediction(test_dataset.y, pred_test)\n",
    "    test_scores = metric.compute_metric(test_dataset.y, pred_test, test_dataset.w)\n",
    "    rocauc_test.append(test_scores)   \n",
    "    \n",
    "    # print rocauc result\n",
    "    print(\"Evaluating model number \", i)\n",
    "    print(\"Train ROC-AUC Score: \" , train_scores,  \n",
    "          \"Valid ROC-AUC Score: \" , valid_scores,\n",
    "          \"Test ROC-AUC Score: \" , test_scores)    "
   ]
  },
  {
   "cell_type": "markdown",
   "metadata": {},
   "source": [
    "## Calculate mean value of ROC-AUC and use std1 for error bar"
   ]
  },
  {
   "cell_type": "code",
   "execution_count": 4,
   "metadata": {},
   "outputs": [],
   "source": [
    "values = []\n",
    "values.append(np.mean(rocauc_train))\n",
    "values.append(np.mean(rocauc_valid))\n",
    "values.append(np.mean(rocauc_test))\n",
    "stds = []\n",
    "stds.append(np.std(rocauc_train))\n",
    "stds.append(np.std(rocauc_valid))\n",
    "stds.append(np.std(rocauc_test))"
   ]
  },
  {
   "cell_type": "markdown",
   "metadata": {},
   "source": [
    "## Plot ROC-AUC Score"
   ]
  },
  {
   "cell_type": "code",
   "execution_count": 5,
   "metadata": {},
   "outputs": [
    {
     "data": {
      "image/png": "[encoded data removed]",
      "text/plain": [
       "<Figure size 432x288 with 1 Axes>"
      ]
     },
     "metadata": {
      "needs_background": "light"
     },
     "output_type": "display_data"
    }
   ],
   "source": [
    "from matplotlib import pyplot as plt\n",
    "%matplotlib inline\n",
    "topics = ['train', 'valid', 'test']\n",
    "plt.bar(topics, values, yerr=stds, capsize=2)\n",
    "\n",
    "plt.title('GCN Model')\n",
    "plt.xlabel('Dataset')\n",
    "plt.ylabel('ROC-AUC Score')\n",
    "plt.show()"
   ]
  }
 ],
 "metadata": {
  "kernelspec": {
   "display_name": "dckernel",
   "language": "python",
   "name": "test"
  },
  "language_info": {
   "codemirror_mode": {
    "name": "ipython",
    "version": 3
   },
   "file_extension": ".py",
   "mimetype": "text/x-python",
   "name": "python",
   "nbconvert_exporter": "python",
   "pygments_lexer": "ipython3",
   "version": "3.6.7"
  },
  "pycharm": {
   "stem_cell": {
    "cell_type": "raw",
    "metadata": {
     "collapsed": false
    },
    "source": []
   }
  }
 },
 "nbformat": 4,
 "nbformat_minor": 1
}

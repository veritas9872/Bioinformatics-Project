{
 "cells": [
  {
   "cell_type": "markdown",
   "metadata": {},
   "source": [
    "# Bis438 Final Project Problem 2"
   ]
  },
  {
   "cell_type": "markdown",
   "metadata": {},
   "source": [
    "## Import Python Libraries"
   ]
  },
  {
   "cell_type": "code",
   "execution_count": 1,
   "metadata": {
    "pycharm": {
     "is_executing": false,
     "name": "#%%\n"
    }
   },
   "outputs": [
    {
     "name": "stderr",
     "output_type": "stream",
     "text": [
      "/home/baseline/.conda/envs/test/lib/python3.6/site-packages/sklearn/ensemble/weight_boosting.py:29: DeprecationWarning: numpy.core.umath_tests is an internal NumPy module and should not be imported. It will be removed in a future NumPy release.\n",
      "  from numpy.core.umath_tests import inner1d\n"
     ]
    }
   ],
   "source": [
    "import tensorflow as tf\n",
    "import numpy as np\n",
    "import deepchem as dc\n",
    "\n",
    "from model import GCN\n",
    "from utils import process_prediction, make_feature, split_data"
   ]
  },
  {
   "cell_type": "markdown",
   "metadata": {
    "pycharm": {
     "is_executing": false,
     "name": "#%%\n"
    }
   },
   "source": [
    "## Build GraphConv Model"
   ]
  },
  {
   "cell_type": "code",
   "execution_count": 2,
   "metadata": {
    "pycharm": {
     "is_executing": false,
     "name": "#%%\n"
    }
   },
   "outputs": [],
   "source": [
    "batch_size = 50\n",
    "model = GCN(batch_size=batch_size) # build model"
   ]
  },
  {
   "cell_type": "markdown",
   "metadata": {},
   "source": [
    "## Training GraphConv Model and Calculate ROC-AUC"
   ]
  },
  {
   "cell_type": "code",
   "execution_count": null,
   "metadata": {},
   "outputs": [
    {
     "name": "stdout",
     "output_type": "stream",
     "text": [
      "Loading raw samples now.\n",
      "shard_size: 8192\n",
      "About to start loading CSV from ../data/HIV.csv\n",
      "Loading shard 1 of size 8192.\n",
      "Featurizing sample 0\n",
      "Featurizing sample 1000\n",
      "Featurizing sample 2000\n",
      "Featurizing sample 3000\n",
      "Featurizing sample 4000\n",
      "Featurizing sample 5000\n",
      "Featurizing sample 6000\n",
      "Featurizing sample 7000\n",
      "Featurizing sample 8000\n",
      "TIMING: featurizing shard 0 took 14.708 s\n",
      "Loading shard 2 of size 8192.\n",
      "Featurizing sample 0\n",
      "Featurizing sample 1000\n",
      "Featurizing sample 2000\n",
      "Featurizing sample 3000\n",
      "Featurizing sample 4000\n",
      "Featurizing sample 5000\n",
      "Featurizing sample 6000\n",
      "Featurizing sample 7000\n",
      "Featurizing sample 8000\n",
      "TIMING: featurizing shard 1 took 15.685 s\n",
      "Loading shard 3 of size 8192.\n",
      "Featurizing sample 0\n",
      "Featurizing sample 1000\n",
      "Featurizing sample 2000\n",
      "Featurizing sample 3000\n",
      "Featurizing sample 4000\n",
      "Featurizing sample 5000\n",
      "Featurizing sample 6000\n",
      "Featurizing sample 7000\n",
      "Featurizing sample 8000\n",
      "TIMING: featurizing shard 2 took 15.883 s\n",
      "Loading shard 4 of size 8192.\n",
      "Featurizing sample 0\n",
      "Featurizing sample 1000\n",
      "Featurizing sample 2000\n",
      "Featurizing sample 3000\n",
      "Featurizing sample 4000\n",
      "Featurizing sample 5000\n",
      "Featurizing sample 6000\n",
      "Featurizing sample 7000\n",
      "Featurizing sample 8000\n",
      "TIMING: featurizing shard 3 took 15.780 s\n",
      "Loading shard 5 of size 8192.\n",
      "Featurizing sample 0\n",
      "Featurizing sample 1000\n",
      "Featurizing sample 2000\n",
      "Featurizing sample 3000\n",
      "Featurizing sample 4000\n",
      "Featurizing sample 5000\n",
      "Featurizing sample 6000\n",
      "Featurizing sample 7000\n",
      "Featurizing sample 8000\n",
      "TIMING: featurizing shard 4 took 14.661 s\n",
      "Loading shard 6 of size 8192.\n",
      "Featurizing sample 0\n",
      "TIMING: featurizing shard 5 took 0.388 s\n",
      "TIMING: dataset construction took 90.218 s\n",
      "Loading dataset from disk.\n",
      "TIMING: dataset construction took 17.377 s\n",
      "Loading dataset from disk.\n",
      "TIMING: dataset construction took 15.313 s\n",
      "Loading dataset from disk.\n",
      "TIMING: dataset construction took 7.009 s\n",
      "Loading dataset from disk.\n",
      "TIMING: dataset construction took 6.991 s\n",
      "Loading dataset from disk.\n"
     ]
    },
    {
     "name": "stderr",
     "output_type": "stream",
     "text": [
      "/home/baseline/.conda/envs/test/lib/python3.6/site-packages/tensorflow/python/ops/gradients_impl.py:98: UserWarning: Converting sparse IndexedSlices to a dense Tensor of unknown shape. This may consume a large amount of memory.\n",
      "  \"Converting sparse IndexedSlices to a dense Tensor of unknown shape. \"\n"
     ]
    },
    {
     "name": "stdout",
     "output_type": "stream",
     "text": [
      "computed_metrics: [0.8013534854443946]\n",
      "computed_metrics: [0.7511128237154361]\n",
      "computed_metrics: [0.7960931606738748]\n",
      "Evaluating model number  0\n",
      "Train ROC-AUC Score:  0.8013534854443946 Valid ROC-AUC Score:  0.7511128237154361 Test ROC-AUC Score:  0.7960931606738748\n",
      "TIMING: dataset construction took 15.501 s\n",
      "Loading dataset from disk.\n",
      "TIMING: dataset construction took 6.545 s\n",
      "Loading dataset from disk.\n",
      "TIMING: dataset construction took 6.766 s\n",
      "Loading dataset from disk.\n",
      "computed_metrics: [0.8383357800318403]\n",
      "computed_metrics: [0.7899448736506748]\n",
      "computed_metrics: [0.7986599799398195]\n",
      "Evaluating model number  1\n",
      "Train ROC-AUC Score:  0.8383357800318403 Valid ROC-AUC Score:  0.7899448736506748 Test ROC-AUC Score:  0.7986599799398195\n",
      "TIMING: dataset construction took 15.514 s\n",
      "Loading dataset from disk.\n",
      "TIMING: dataset construction took 6.853 s\n",
      "Loading dataset from disk.\n",
      "TIMING: dataset construction took 6.778 s\n",
      "Loading dataset from disk.\n",
      "computed_metrics: [0.8689424004206228]\n",
      "computed_metrics: [0.8134699992143587]\n",
      "computed_metrics: [0.8108833673763685]\n",
      "Evaluating model number  2\n",
      "Train ROC-AUC Score:  0.8689424004206228 Valid ROC-AUC Score:  0.8134699992143587 Test ROC-AUC Score:  0.8108833673763685\n",
      "TIMING: dataset construction took 15.167 s\n",
      "Loading dataset from disk.\n",
      "TIMING: dataset construction took 7.096 s\n",
      "Loading dataset from disk.\n",
      "TIMING: dataset construction took 6.538 s\n",
      "Loading dataset from disk.\n",
      "computed_metrics: [0.900357173388102]\n",
      "computed_metrics: [0.8529546227377489]\n",
      "computed_metrics: [0.793229304416821]\n",
      "Evaluating model number  3\n",
      "Train ROC-AUC Score:  0.900357173388102 Valid ROC-AUC Score:  0.8529546227377489 Test ROC-AUC Score:  0.793229304416821\n",
      "TIMING: dataset construction took 15.645 s\n",
      "Loading dataset from disk.\n",
      "TIMING: dataset construction took 6.586 s\n",
      "Loading dataset from disk.\n",
      "TIMING: dataset construction took 6.845 s\n",
      "Loading dataset from disk.\n",
      "computed_metrics: [0.9065059953825623]\n",
      "computed_metrics: [0.8431151404995783]\n",
      "computed_metrics: [0.8687807798528361]\n",
      "Evaluating model number  4\n",
      "Train ROC-AUC Score:  0.9065059953825623 Valid ROC-AUC Score:  0.8431151404995783 Test ROC-AUC Score:  0.8687807798528361\n",
      "TIMING: dataset construction took 14.809 s\n",
      "Loading dataset from disk.\n",
      "TIMING: dataset construction took 6.592 s\n",
      "Loading dataset from disk.\n",
      "TIMING: dataset construction took 6.903 s\n",
      "Loading dataset from disk.\n"
     ]
    }
   ],
   "source": [
    "metric = dc.metrics.Metric(dc.metrics.roc_auc_score, np.mean, mode=\"classification\") # define metric as roc_auc_score\n",
    "\n",
    "num_models = 10 # the number of iteration\n",
    "rocauc_train = [] # save rocauc value for training dataset\n",
    "rocauc_valid = [] # save rocauc value for validation dataset\n",
    "rocauc_test = [] # save rocauc value for test dataset\n",
    "\n",
    "# Do featurization\n",
    "feature = make_feature('HIV','GraphConv')\n",
    "\n",
    "for i in range(num_models):\n",
    "    # Load ith dataset with GraphConv Featurizer and random split\n",
    "    train_dataset, valid_dataset, test_dataset = split_data(feature)\n",
    "    \n",
    "    # Fitting ith model with training dataset\n",
    "    model.fit(train_dataset, 3) # fitting with training epoch 3\n",
    "    \n",
    "    # Evaluating model   \n",
    "    # save rocauc for training dataset\n",
    "    pred_train = model.predict(train_dataset)\n",
    "    pred_train = process_prediction(train_dataset.y, pred_train)\n",
    "    train_scores = metric.compute_metric(train_dataset.y, pred_train, train_dataset.w)\n",
    "    rocauc_train.append(train_scores)\n",
    "\n",
    "    # save rocauc for valid dataset\n",
    "    pred_valid = model.predict(valid_dataset)\n",
    "    pred_valid = process_prediction(valid_dataset.y, pred_valid)\n",
    "    valid_scores = metric.compute_metric(valid_dataset.y, pred_valid, valid_dataset.w)\n",
    "    rocauc_valid.append(valid_scores)\n",
    "   \n",
    "    # save rocauc for test dataset\n",
    "    pred_test = model.predict(test_dataset)\n",
    "    pred_test = process_prediction(test_dataset.y, pred_test)\n",
    "    test_scores = metric.compute_metric(test_dataset.y, pred_test, test_dataset.w)\n",
    "    rocauc_test.append(test_scores)   \n",
    "    \n",
    "    # print rocauc result\n",
    "    print(\"Evaluating model number \", i)\n",
    "    print(\"Train ROC-AUC Score: \" , train_scores,  \n",
    "          \"Valid ROC-AUC Score: \" , valid_scores,\n",
    "          \"Test ROC-AUC Score: \" , test_scores)    "
   ]
  },
  {
   "cell_type": "markdown",
   "metadata": {},
   "source": [
    "## Calculate mean value of ROC-AUC and use std1 for error bar"
   ]
  },
  {
   "cell_type": "code",
   "execution_count": null,
   "metadata": {},
   "outputs": [],
   "source": [
    "values = []\n",
    "values.append(np.mean(rocauc_train))\n",
    "values.append(np.mean(rocauc_valid))\n",
    "values.append(np.mean(rocauc_test))\n",
    "stds = []\n",
    "stds.append(np.std(rocauc_train))\n",
    "stds.append(np.std(rocauc_valid))\n",
    "stds.append(np.std(rocauc_test))"
   ]
  },
  {
   "cell_type": "markdown",
   "metadata": {},
   "source": [
    "## Plot ROC-AUC Score"
   ]
  },
  {
   "cell_type": "code",
   "execution_count": null,
   "metadata": {},
   "outputs": [],
   "source": [
    "from matplotlib import pyplot as plt\n",
    "%matplotlib inline\n",
    "topics = ['train', 'valid', 'test']\n",
    "plt.bar(topics, values, yerr=stds, capsize=2)\n",
    "\n",
    "plt.title('GCN Model')\n",
    "plt.xlabel('Dataset')\n",
    "plt.ylabel('ROC-AUC Score')\n",
    "plt.show()"
   ]
  }
 ],
 "metadata": {
  "kernelspec": {
   "display_name": "dckernel",
   "language": "python",
   "name": "test"
  },
  "language_info": {
   "codemirror_mode": {
    "name": "ipython",
    "version": 3
   },
   "file_extension": ".py",
   "mimetype": "text/x-python",
   "name": "python",
   "nbconvert_exporter": "python",
   "pygments_lexer": "ipython3",
   "version": "3.6.7"
  },
  "pycharm": {
   "stem_cell": {
    "cell_type": "raw",
    "metadata": {
     "collapsed": false
    },
    "source": []
   }
  }
 },
 "nbformat": 4,
 "nbformat_minor": 1
}

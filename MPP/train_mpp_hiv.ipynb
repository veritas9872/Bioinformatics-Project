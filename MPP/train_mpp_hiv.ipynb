{
 "cells": [
  {
   "cell_type": "markdown",
   "metadata": {},
   "source": [
    "# Bis438 Final Project Problem 2"
   ]
  },
  {
   "cell_type": "markdown",
   "metadata": {},
   "source": [
    "## Import Python Libraries"
   ]
  },
  {
   "cell_type": "code",
   "execution_count": 1,
   "metadata": {
    "pycharm": {
     "is_executing": false,
     "name": "#%%\n"
    }
   },
   "outputs": [
    {
     "name": "stderr",
     "output_type": "stream",
     "text": [
      "/home/baseline/.conda/envs/test/lib/python3.6/site-packages/sklearn/ensemble/weight_boosting.py:29: DeprecationWarning: numpy.core.umath_tests is an internal NumPy module and should not be imported. It will be removed in a future NumPy release.\n",
      "  from numpy.core.umath_tests import inner1d\n"
     ]
    }
   ],
   "source": [
    "import tensorflow as tf\n",
    "import numpy as np\n",
    "import deepchem as dc\n",
    "\n",
    "from model import GCN\n",
    "from utils import process_prediction, make_feature, split_data"
   ]
  },
  {
   "cell_type": "markdown",
   "metadata": {
    "pycharm": {
     "is_executing": false,
     "name": "#%%\n"
    }
   },
   "source": [
    "## Build GraphConv Model"
   ]
  },
  {
   "cell_type": "code",
   "execution_count": 2,
   "metadata": {
    "pycharm": {
     "is_executing": false,
     "name": "#%%\n"
    }
   },
   "outputs": [],
   "source": [
    "batch_size = 50\n",
    "gcn_model = GCN(batch_size=batch_size) # build model"
   ]
  },
  {
   "cell_type": "markdown",
   "metadata": {},
   "source": [
    "## Training GraphConv Model and Calculate ROC-AUC"
   ]
  },
  {
   "cell_type": "code",
   "execution_count": 3,
   "metadata": {},
   "outputs": [
    {
     "name": "stdout",
     "output_type": "stream",
     "text": [
      "Loading raw samples now.\n",
      "shard_size: 8192\n",
      "About to start loading CSV from ../data/HIV.csv\n",
      "Loading shard 1 of size 8192.\n",
      "Featurizing sample 0\n",
      "Featurizing sample 1000\n",
      "Featurizing sample 2000\n",
      "Featurizing sample 3000\n",
      "Featurizing sample 4000\n",
      "Featurizing sample 5000\n",
      "Featurizing sample 6000\n",
      "Featurizing sample 7000\n",
      "Featurizing sample 8000\n",
      "TIMING: featurizing shard 0 took 13.299 s\n",
      "Loading shard 2 of size 8192.\n",
      "Featurizing sample 0\n",
      "Featurizing sample 1000\n",
      "Featurizing sample 2000\n",
      "Featurizing sample 3000\n",
      "Featurizing sample 4000\n",
      "Featurizing sample 5000\n",
      "Featurizing sample 6000\n",
      "Featurizing sample 7000\n",
      "Featurizing sample 8000\n",
      "TIMING: featurizing shard 1 took 14.432 s\n",
      "Loading shard 3 of size 8192.\n",
      "Featurizing sample 0\n",
      "Featurizing sample 1000\n",
      "Featurizing sample 2000\n",
      "Featurizing sample 3000\n",
      "Featurizing sample 4000\n",
      "Featurizing sample 5000\n",
      "Featurizing sample 6000\n",
      "Featurizing sample 7000\n",
      "Featurizing sample 8000\n",
      "TIMING: featurizing shard 2 took 14.708 s\n",
      "Loading shard 4 of size 8192.\n",
      "Featurizing sample 0\n",
      "Featurizing sample 1000\n",
      "Featurizing sample 2000\n",
      "Featurizing sample 3000\n",
      "Featurizing sample 4000\n",
      "Featurizing sample 5000\n",
      "Featurizing sample 6000\n",
      "Featurizing sample 7000\n",
      "Featurizing sample 8000\n",
      "TIMING: featurizing shard 3 took 14.791 s\n",
      "Loading shard 5 of size 8192.\n",
      "Featurizing sample 0\n",
      "Featurizing sample 1000\n",
      "Featurizing sample 2000\n",
      "Featurizing sample 3000\n",
      "Featurizing sample 4000\n",
      "Featurizing sample 5000\n",
      "Featurizing sample 6000\n",
      "Featurizing sample 7000\n",
      "Featurizing sample 8000\n",
      "TIMING: featurizing shard 4 took 15.177 s\n",
      "Loading shard 6 of size 8192.\n",
      "Featurizing sample 0\n",
      "TIMING: featurizing shard 5 took 0.414 s\n",
      "TIMING: dataset construction took 84.898 s\n",
      "Loading dataset from disk.\n",
      "TIMING: dataset construction took 19.824 s\n",
      "Loading dataset from disk.\n",
      "TIMING: dataset construction took 17.835 s\n",
      "Loading dataset from disk.\n",
      "TIMING: dataset construction took 7.966 s\n",
      "Loading dataset from disk.\n",
      "TIMING: dataset construction took 7.900 s\n",
      "Loading dataset from disk.\n"
     ]
    },
    {
     "name": "stderr",
     "output_type": "stream",
     "text": [
      "/home/baseline/.conda/envs/test/lib/python3.6/site-packages/tensorflow/python/ops/gradients_impl.py:98: UserWarning: Converting sparse IndexedSlices to a dense Tensor of unknown shape. This may consume a large amount of memory.\n",
      "  \"Converting sparse IndexedSlices to a dense Tensor of unknown shape. \"\n"
     ]
    },
    {
     "name": "stdout",
     "output_type": "stream",
     "text": [
      "computed_metrics: [0.8019958220444623]\n",
      "computed_metrics: [0.8040250810697158]\n",
      "computed_metrics: [0.763692818455237]\n",
      "Evaluating model number  0\n",
      "Train ROC-AUC Score:  0.8019958220444623 Valid ROC-AUC Score:  0.8040250810697158 Test ROC-AUC Score:  0.763692818455237\n",
      "TIMING: dataset construction took 15.366 s\n",
      "Loading dataset from disk.\n",
      "TIMING: dataset construction took 6.864 s\n",
      "Loading dataset from disk.\n",
      "TIMING: dataset construction took 6.821 s\n",
      "Loading dataset from disk.\n",
      "computed_metrics: [0.8402769065340643]\n",
      "computed_metrics: [0.8171415425513786]\n",
      "computed_metrics: [0.792115024638568]\n",
      "Evaluating model number  1\n",
      "Train ROC-AUC Score:  0.8402769065340643 Valid ROC-AUC Score:  0.8171415425513786 Test ROC-AUC Score:  0.792115024638568\n",
      "TIMING: dataset construction took 15.129 s\n",
      "Loading dataset from disk.\n",
      "TIMING: dataset construction took 6.839 s\n",
      "Loading dataset from disk.\n",
      "TIMING: dataset construction took 6.776 s\n",
      "Loading dataset from disk.\n",
      "computed_metrics: [0.8676765662946291]\n",
      "computed_metrics: [0.8470904052070833]\n",
      "computed_metrics: [0.843042775528493]\n",
      "Evaluating model number  2\n",
      "Train ROC-AUC Score:  0.8676765662946291 Valid ROC-AUC Score:  0.8470904052070833 Test ROC-AUC Score:  0.843042775528493\n",
      "TIMING: dataset construction took 14.705 s\n",
      "Loading dataset from disk.\n",
      "TIMING: dataset construction took 6.944 s\n",
      "Loading dataset from disk.\n",
      "TIMING: dataset construction took 6.450 s\n",
      "Loading dataset from disk.\n",
      "computed_metrics: [0.8992557538897852]\n",
      "computed_metrics: [0.8446016537928303]\n",
      "computed_metrics: [0.8341699110122358]\n",
      "Evaluating model number  3\n",
      "Train ROC-AUC Score:  0.8992557538897852 Valid ROC-AUC Score:  0.8446016537928303 Test ROC-AUC Score:  0.8341699110122358\n",
      "TIMING: dataset construction took 15.046 s\n",
      "Loading dataset from disk.\n",
      "TIMING: dataset construction took 6.406 s\n",
      "Loading dataset from disk.\n",
      "TIMING: dataset construction took 6.628 s\n",
      "Loading dataset from disk.\n",
      "computed_metrics: [0.9131415100928009]\n",
      "computed_metrics: [0.8432504689118446]\n",
      "computed_metrics: [0.8478453734618276]\n",
      "Evaluating model number  4\n",
      "Train ROC-AUC Score:  0.9131415100928009 Valid ROC-AUC Score:  0.8432504689118446 Test ROC-AUC Score:  0.8478453734618276\n",
      "TIMING: dataset construction took 14.715 s\n",
      "Loading dataset from disk.\n",
      "TIMING: dataset construction took 6.616 s\n",
      "Loading dataset from disk.\n",
      "TIMING: dataset construction took 6.512 s\n",
      "Loading dataset from disk.\n",
      "computed_metrics: [0.9253404083484233]\n",
      "computed_metrics: [0.8783538150681529]\n",
      "computed_metrics: [0.8786896017251836]\n",
      "Evaluating model number  5\n",
      "Train ROC-AUC Score:  0.9253404083484233 Valid ROC-AUC Score:  0.8783538150681529 Test ROC-AUC Score:  0.8786896017251836\n",
      "TIMING: dataset construction took 15.446 s\n",
      "Loading dataset from disk.\n",
      "TIMING: dataset construction took 6.989 s\n",
      "Loading dataset from disk.\n",
      "TIMING: dataset construction took 6.595 s\n",
      "Loading dataset from disk.\n",
      "computed_metrics: [0.9520547511701853]\n",
      "computed_metrics: [0.8755017242829506]\n",
      "computed_metrics: [0.8744428856376634]\n",
      "Evaluating model number  6\n",
      "Train ROC-AUC Score:  0.9520547511701853 Valid ROC-AUC Score:  0.8755017242829506 Test ROC-AUC Score:  0.8744428856376634\n",
      "TIMING: dataset construction took 14.843 s\n",
      "Loading dataset from disk.\n",
      "TIMING: dataset construction took 6.423 s\n",
      "Loading dataset from disk.\n",
      "TIMING: dataset construction took 6.921 s\n",
      "Loading dataset from disk.\n",
      "computed_metrics: [0.9594083480538319]\n",
      "computed_metrics: [0.9183107464707649]\n",
      "computed_metrics: [0.9032341646846225]\n",
      "Evaluating model number  7\n",
      "Train ROC-AUC Score:  0.9594083480538319 Valid ROC-AUC Score:  0.9183107464707649 Test ROC-AUC Score:  0.9032341646846225\n",
      "TIMING: dataset construction took 15.277 s\n",
      "Loading dataset from disk.\n",
      "TIMING: dataset construction took 6.579 s\n",
      "Loading dataset from disk.\n",
      "TIMING: dataset construction took 7.059 s\n",
      "Loading dataset from disk.\n",
      "computed_metrics: [0.9643835032066926]\n",
      "computed_metrics: [0.9186596256892134]\n",
      "computed_metrics: [0.9163466198651765]\n",
      "Evaluating model number  8\n",
      "Train ROC-AUC Score:  0.9643835032066926 Valid ROC-AUC Score:  0.9186596256892134 Test ROC-AUC Score:  0.9163466198651765\n",
      "TIMING: dataset construction took 15.175 s\n",
      "Loading dataset from disk.\n",
      "TIMING: dataset construction took 7.005 s\n",
      "Loading dataset from disk.\n",
      "TIMING: dataset construction took 6.652 s\n",
      "Loading dataset from disk.\n",
      "computed_metrics: [0.9773629141189832]\n",
      "computed_metrics: [0.9322705314009663]\n",
      "computed_metrics: [0.9393114805520701]\n",
      "Evaluating model number  9\n",
      "Train ROC-AUC Score:  0.9773629141189832 Valid ROC-AUC Score:  0.9322705314009663 Test ROC-AUC Score:  0.9393114805520701\n"
     ]
    }
   ],
   "source": [
    "metric = dc.metrics.Metric(dc.metrics.roc_auc_score, np.mean, mode=\"classification\") # define metric as roc_auc_score\n",
    "\n",
    "num_models = 10 # the number of iteration\n",
    "rocauc_train = [] # save rocauc value for training dataset\n",
    "rocauc_valid = [] # save rocauc value for validation dataset\n",
    "rocauc_test = [] # save rocauc value for test dataset\n",
    "\n",
    "# Do featurization\n",
    "conv_feature = make_feature('HIV','GraphConv')\n",
    "\n",
    "for i in range(num_models):\n",
    "    # Load ith dataset with GraphConv Featurizer and random split\n",
    "    train_dataset, valid_dataset, test_dataset = split_data(conv_feature)\n",
    "    \n",
    "    # Fitting ith model with training dataset\n",
    "    gcn_model.fit(train_dataset, 3) # fitting with training epoch 3\n",
    "    \n",
    "    # Evaluating model   \n",
    "    # save rocauc for training dataset\n",
    "    pred_train = gcn_model.predict(train_dataset)\n",
    "    pred_train = process_prediction(train_dataset.y, pred_train)\n",
    "    train_scores = metric.compute_metric(train_dataset.y, pred_train, train_dataset.w)\n",
    "    rocauc_train.append(train_scores)\n",
    "\n",
    "    # save rocauc for valid dataset\n",
    "    pred_valid = gcn_model.predict(valid_dataset)\n",
    "    pred_valid = process_prediction(valid_dataset.y, pred_valid)\n",
    "    valid_scores = metric.compute_metric(valid_dataset.y, pred_valid, valid_dataset.w)\n",
    "    rocauc_valid.append(valid_scores)\n",
    "   \n",
    "    # save rocauc for test dataset\n",
    "    pred_test = gcn_model.predict(test_dataset)\n",
    "    pred_test = process_prediction(test_dataset.y, pred_test)\n",
    "    test_scores = metric.compute_metric(test_dataset.y, pred_test, test_dataset.w)\n",
    "    rocauc_test.append(test_scores)   \n",
    "    \n",
    "    # print rocauc result\n",
    "    print(\"Evaluating model number \", i)\n",
    "    print(\"Train ROC-AUC Score: \" , train_scores,  \n",
    "          \"Valid ROC-AUC Score: \" , valid_scores,\n",
    "          \"Test ROC-AUC Score: \" , test_scores) "
   ]
  },
  {
   "cell_type": "markdown",
   "metadata": {},
   "source": [
    "## Calculate mean value of ROC-AUC and use std1 for error bar"
   ]
  },
  {
   "cell_type": "code",
   "execution_count": 4,
   "metadata": {},
   "outputs": [],
   "source": [
    "gcn_values = []\n",
    "gcn_values.append(np.mean(rocauc_train))\n",
    "gcn_values.append(np.mean(rocauc_valid))\n",
    "gcn_values.append(np.mean(rocauc_test))\n",
    "gcn_stds = []\n",
    "gcn_stds.append(np.std(rocauc_train))\n",
    "gcn_stds.append(np.std(rocauc_valid))\n",
    "gcn_stds.append(np.std(rocauc_test))"
   ]
  },
  {
   "cell_type": "markdown",
   "metadata": {},
   "source": [
    "## Build Multi Layer Perceptron using keras"
   ]
  },
  {
   "cell_type": "code",
   "execution_count": 5,
   "metadata": {},
   "outputs": [],
   "source": [
    "from model import MLP\n",
    "batch_size = 50\n",
    "dense_model = MLP(batch_size=batch_size)"
   ]
  },
  {
   "cell_type": "markdown",
   "metadata": {},
   "source": [
    "## Training Multi Layer Percpetron Model and Calculate ROC-AUC"
   ]
  },
  {
   "cell_type": "code",
   "execution_count": 6,
   "metadata": {},
   "outputs": [
    {
     "name": "stdout",
     "output_type": "stream",
     "text": [
      "Loading raw samples now.\n",
      "shard_size: 8192\n",
      "About to start loading CSV from ../data/bace.csv\n",
      "Loading shard 1 of size 8192.\n",
      "Featurizing sample 0\n",
      "Featurizing sample 1000\n",
      "TIMING: featurizing shard 0 took 2.646 s\n",
      "TIMING: dataset construction took 2.795 s\n",
      "Loading dataset from disk.\n",
      "TIMING: dataset construction took 0.056 s\n",
      "Loading dataset from disk.\n",
      "TIMING: dataset construction took 0.050 s\n",
      "Loading dataset from disk.\n",
      "TIMING: dataset construction took 0.024 s\n",
      "Loading dataset from disk.\n",
      "TIMING: dataset construction took 0.024 s\n",
      "Loading dataset from disk.\n",
      "computed_metrics: [0.8965239268420634]\n",
      "computed_metrics: [0.8838998211091234]\n",
      "computed_metrics: [0.8936339522546419]\n",
      "Evaluating model number  0\n",
      "Train ROC-AUC Score:  0.8965239268420634 Valid ROC-AUC Score:  0.8838998211091234 Test ROC-AUC Score:  0.8936339522546419\n",
      "TIMING: dataset construction took 0.050 s\n",
      "Loading dataset from disk.\n",
      "TIMING: dataset construction took 0.024 s\n",
      "Loading dataset from disk.\n",
      "TIMING: dataset construction took 0.024 s\n",
      "Loading dataset from disk.\n",
      "computed_metrics: [0.9469275857891724]\n",
      "computed_metrics: [0.9101272534464475]\n",
      "computed_metrics: [0.9085365853658537]\n",
      "Evaluating model number  1\n",
      "Train ROC-AUC Score:  0.9469275857891724 Valid ROC-AUC Score:  0.9101272534464475 Test ROC-AUC Score:  0.9085365853658537\n",
      "TIMING: dataset construction took 0.056 s\n",
      "Loading dataset from disk.\n",
      "TIMING: dataset construction took 0.024 s\n",
      "Loading dataset from disk.\n",
      "TIMING: dataset construction took 0.024 s\n",
      "Loading dataset from disk.\n",
      "computed_metrics: [0.9730652294085129]\n",
      "computed_metrics: [0.9450877192982455]\n",
      "computed_metrics: [0.9536876731301939]\n",
      "Evaluating model number  2\n",
      "Train ROC-AUC Score:  0.9730652294085129 Valid ROC-AUC Score:  0.9450877192982455 Test ROC-AUC Score:  0.9536876731301939\n",
      "TIMING: dataset construction took 0.063 s\n",
      "Loading dataset from disk.\n",
      "TIMING: dataset construction took 0.028 s\n",
      "Loading dataset from disk.\n",
      "TIMING: dataset construction took 0.025 s\n",
      "Loading dataset from disk.\n",
      "computed_metrics: [0.9857150114230482]\n",
      "computed_metrics: [0.9719780219780219]\n",
      "computed_metrics: [0.9753797799895233]\n",
      "Evaluating model number  3\n",
      "Train ROC-AUC Score:  0.9857150114230482 Valid ROC-AUC Score:  0.9719780219780219 Test ROC-AUC Score:  0.9753797799895233\n",
      "TIMING: dataset construction took 0.066 s\n",
      "Loading dataset from disk.\n",
      "TIMING: dataset construction took 0.024 s\n",
      "Loading dataset from disk.\n",
      "TIMING: dataset construction took 0.024 s\n",
      "Loading dataset from disk.\n",
      "computed_metrics: [0.9938093839307529]\n",
      "computed_metrics: [0.9679785330948122]\n",
      "computed_metrics: [0.9859104690565363]\n",
      "Evaluating model number  4\n",
      "Train ROC-AUC Score:  0.9938093839307529 Valid ROC-AUC Score:  0.9679785330948122 Test ROC-AUC Score:  0.9859104690565363\n",
      "TIMING: dataset construction took 0.064 s\n",
      "Loading dataset from disk.\n",
      "TIMING: dataset construction took 0.024 s\n",
      "Loading dataset from disk.\n",
      "TIMING: dataset construction took 0.024 s\n",
      "Loading dataset from disk.\n",
      "computed_metrics: [0.9970712441679198]\n",
      "computed_metrics: [0.9839788732394366]\n",
      "computed_metrics: [0.9957196361690743]\n",
      "Evaluating model number  5\n",
      "Train ROC-AUC Score:  0.9970712441679198 Valid ROC-AUC Score:  0.9839788732394366 Test ROC-AUC Score:  0.9957196361690743\n",
      "TIMING: dataset construction took 0.054 s\n",
      "Loading dataset from disk.\n",
      "TIMING: dataset construction took 0.024 s\n",
      "Loading dataset from disk.\n",
      "TIMING: dataset construction took 0.024 s\n",
      "Loading dataset from disk.\n",
      "computed_metrics: [0.9991953350045079]\n",
      "computed_metrics: [0.9922041105598867]\n",
      "computed_metrics: [0.9922192749778957]\n",
      "Evaluating model number  6\n",
      "Train ROC-AUC Score:  0.9991953350045079 Valid ROC-AUC Score:  0.9922041105598867 Test ROC-AUC Score:  0.9922192749778957\n",
      "TIMING: dataset construction took 0.054 s\n",
      "Loading dataset from disk.\n",
      "TIMING: dataset construction took 0.024 s\n",
      "Loading dataset from disk.\n",
      "TIMING: dataset construction took 0.024 s\n",
      "Loading dataset from disk.\n",
      "computed_metrics: [0.9995531098057333]\n",
      "computed_metrics: [0.9911616161616161]\n",
      "computed_metrics: [0.9982638888888888]\n",
      "Evaluating model number  7\n",
      "Train ROC-AUC Score:  0.9995531098057333 Valid ROC-AUC Score:  0.9911616161616161 Test ROC-AUC Score:  0.9982638888888888\n",
      "TIMING: dataset construction took 0.063 s\n",
      "Loading dataset from disk.\n",
      "TIMING: dataset construction took 0.024 s\n",
      "Loading dataset from disk.\n",
      "TIMING: dataset construction took 0.024 s\n",
      "Loading dataset from disk.\n",
      "computed_metrics: [0.9996346206247368]\n",
      "computed_metrics: [0.9991020114942528]\n",
      "computed_metrics: [0.9946292446292446]\n",
      "Evaluating model number  8\n",
      "Train ROC-AUC Score:  0.9996346206247368 Valid ROC-AUC Score:  0.9991020114942528 Test ROC-AUC Score:  0.9946292446292446\n",
      "TIMING: dataset construction took 0.064 s\n",
      "Loading dataset from disk.\n",
      "TIMING: dataset construction took 0.024 s\n",
      "Loading dataset from disk.\n",
      "TIMING: dataset construction took 0.024 s\n",
      "Loading dataset from disk.\n",
      "computed_metrics: [0.9997845921657406]\n",
      "computed_metrics: [0.9996487530734106]\n",
      "computed_metrics: [0.9980941490375452]\n",
      "Evaluating model number  9\n",
      "Train ROC-AUC Score:  0.9997845921657406 Valid ROC-AUC Score:  0.9996487530734106 Test ROC-AUC Score:  0.9980941490375452\n"
     ]
    }
   ],
   "source": [
    "metric = dc.metrics.Metric(dc.metrics.roc_auc_score, np.mean, mode=\"classification\") # define metric as roc_auc_score\n",
    "\n",
    "num_models = 10 # the number of iteration\n",
    "rocauc_train = [] # save rocauc value for training dataset\n",
    "rocauc_valid = [] # save rocauc value for validation dataset\n",
    "rocauc_test = [] # save rocauc value for test dataset\n",
    "\n",
    "# Do featurization\n",
    "ecfp_feature = make_feature('BACE','ECFP')\n",
    "\n",
    "for i in range(num_models):\n",
    "    # Load ith dataset with GraphConv Featurizer and random split\n",
    "    train_dataset, valid_dataset, test_dataset = split_data(ecfp_feature)\n",
    "    \n",
    "    # Fitting ith model with training dataset\n",
    "    dense_model.fit(train_dataset, 3) # fitting with training epoch 3\n",
    "    \n",
    "    # Evaluating model   \n",
    "    # save rocauc for training dataset\n",
    "    pred_train = dense_model.predict(train_dataset)\n",
    "    pred_train = process_prediction(train_dataset.y, pred_train)\n",
    "    train_scores = metric.compute_metric(train_dataset.y, pred_train)\n",
    "    rocauc_train.append(train_scores)\n",
    "\n",
    "    # save rocauc for valid dataset\n",
    "    pred_valid = dense_model.predict(valid_dataset)\n",
    "    pred_valid = process_prediction(valid_dataset.y, pred_valid)\n",
    "    valid_scores = metric.compute_metric(valid_dataset.y, pred_valid)\n",
    "    rocauc_valid.append(valid_scores)\n",
    "   \n",
    "    # save rocauc for test dataset\n",
    "    pred_test = dense_model.predict(test_dataset)\n",
    "    pred_test = process_prediction(test_dataset.y, pred_test)\n",
    "    test_scores = metric.compute_metric(test_dataset.y, pred_test)\n",
    "    rocauc_test.append(test_scores)   \n",
    "    \n",
    "    # print rocauc result\n",
    "    print(\"Evaluating model number \", i)\n",
    "    print(\"Train ROC-AUC Score: \" , train_scores,  \n",
    "          \"Valid ROC-AUC Score: \" , valid_scores,\n",
    "          \"Test ROC-AUC Score: \" , test_scores)   "
   ]
  },
  {
   "cell_type": "markdown",
   "metadata": {},
   "source": [
    "## Calculate mean value of ROC-AUC and use std1 for error bar in MLP model"
   ]
  },
  {
   "cell_type": "code",
   "execution_count": 7,
   "metadata": {},
   "outputs": [],
   "source": [
    "mlp_values = []\n",
    "mlp_values.append(np.mean(rocauc_train))\n",
    "mlp_values.append(np.mean(rocauc_valid))\n",
    "mlp_values.append(np.mean(rocauc_test))\n",
    "mlp_stds = []\n",
    "mlp_stds.append(np.std(rocauc_train))\n",
    "mlp_stds.append(np.std(rocauc_valid))\n",
    "mlp_stds.append(np.std(rocauc_test))"
   ]
  },
  {
   "cell_type": "markdown",
   "metadata": {},
   "source": [
    "## Plot ROC-AUC Score"
   ]
  },
  {
   "cell_type": "code",
   "execution_count": 8,
   "metadata": {},
   "outputs": [
    {
     "data": {
      "image/png": "[encoded data removed]",
      "text/plain": [
       "<Figure size 432x288 with 1 Axes>"
      ]
     },
     "metadata": {
      "needs_background": "light"
     },
     "output_type": "display_data"
    }
   ],
   "source": [
    "from matplotlib import pyplot as plt\n",
    "%matplotlib inline\n",
    "\n",
    "topics = ['train', 'valid', 'test']\n",
    "\n",
    "def create_x(t, w, n, d):\n",
    "    return [t*x + w*n for x in range(d)]\n",
    "\n",
    "gcn_values_x = create_x(2, 0.8, 1, 3)\n",
    "mlp_values_x = create_x(2, 0.8, 2, 3)\n",
    "\n",
    "ax = plt.subplot()\n",
    "p1 = ax.bar(gcn_values_x, gcn_values, yerr=gcn_stds, capsize=1)\n",
    "p2 = ax.bar(mlp_values_x, mlp_values, yerr=mlp_stds, capsize=1)\n",
    "\n",
    "middle_x = [(a+b)/2 for (a,b) in zip(gcn_values_x, mlp_values_x)]\n",
    "\n",
    "ax.set_title('Mean ROC-AUC Score for GCN/MLP Model')\n",
    "ax.set_xlabel('Dataset')\n",
    "ax.set_ylabel('ROC-AUC Score')\n",
    "ax.legend((p1[0], p2[0]), ('GCN', 'MLP'), fontsize=15)\n",
    "ax.set_xticks(middle_x)\n",
    "ax.set_xticklabels(topics)\n",
    "plt.show()"
   ]
  }
 ],
 "metadata": {
  "kernelspec": {
   "display_name": "dckernel",
   "language": "python",
   "name": "test"
  },
  "language_info": {
   "codemirror_mode": {
    "name": "ipython",
    "version": 3
   },
   "file_extension": ".py",
   "mimetype": "text/x-python",
   "name": "python",
   "nbconvert_exporter": "python",
   "pygments_lexer": "ipython3",
   "version": "3.6.7"
  },
  "pycharm": {
   "stem_cell": {
    "cell_type": "raw",
    "metadata": {
     "collapsed": false
    },
    "source": []
   }
  }
 },
 "nbformat": 4,
 "nbformat_minor": 1
}
